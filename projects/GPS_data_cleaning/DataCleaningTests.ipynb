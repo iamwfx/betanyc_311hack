{
 "cells": [
  {
   "cell_type": "code",
   "execution_count": 59,
   "metadata": {},
   "outputs": [],
   "source": [
    "import matplotlib.pyplot as plt\n",
    "import numpy as np\n",
    "import pandas as pd\n",
    "import geopandas as gpd\n",
    "import dask\n",
    "import cartoframes\n",
    "from cartoframes import CartoContext, Credentials\n",
    "\n",
    "import math as m\n"
   ]
  },
  {
   "cell_type": "markdown",
   "metadata": {},
   "source": [
    "#### Let's start with the raw data"
   ]
  },
  {
   "cell_type": "code",
   "execution_count": 160,
   "metadata": {},
   "outputs": [],
   "source": [
    "central='M010'\n",
    "df= pd.read_hdf('data_parks_M010.hdf'.format(central),key='/{}'.format(central)).reset_index(drop=True)"
   ]
  },
  {
   "cell_type": "code",
   "execution_count": 17,
   "metadata": {},
   "outputs": [
    {
     "name": "stdout",
     "output_type": "stream",
     "text": [
      "Data is (4041851, 8) dimensions\n"
     ]
    }
   ],
   "source": [
    "print(\"Data is {} dimensions\".format(df.shape))"
   ]
  },
  {
   "cell_type": "markdown",
   "metadata": {},
   "source": [
    "#### Export the raw data into CARTO\n",
    "Using cartoframes, we can export the raw data in order to make some quick maps of our data. \n",
    "\n",
    "Set up the credentials first."
   ]
  },
  {
   "cell_type": "code",
   "execution_count": 4,
   "metadata": {
    "collapsed": true
   },
   "outputs": [],
   "source": [
    "creds = Credentials(key='8b831d5ece6d5a6d5d567a4a23449406f726e435', \n",
    "                    username='parksgps')\n",
    "base_url = 'https://parksgps.carto.com'\n",
    "creds.save()\n",
    "# cxn = CartoContext()"
   ]
  },
  {
   "cell_type": "code",
   "execution_count": 127,
   "metadata": {
    "collapsed": true
   },
   "outputs": [],
   "source": [
    "df.to_csv('data_cleaning_tests.csv')"
   ]
  },
  {
   "cell_type": "code",
   "execution_count": 128,
   "metadata": {},
   "outputs": [],
   "source": [
    "# cc = cartoframes.CartoContext(creds=creds)\n",
    "# cc.write(df, 'data_cleaning_tests',\n",
    "#          lnglat=('lng', 'lat'),\n",
    "#          overwrite=True)"
   ]
  },
  {
   "cell_type": "code",
   "execution_count": null,
   "metadata": {
    "collapsed": true
   },
   "outputs": [],
   "source": [
    "df_carto = pd.read_csv('{}/api/v2/sql?q=SELECT+*+FROM+data_cleaning_tests&format=csv'.format(base_url)).set_index('cartodb_id')"
   ]
  },
  {
   "cell_type": "markdown",
   "metadata": {},
   "source": [
    "# Data Cleaning\n",
    "- Remove duplicate points (Check for lat, lng, and timestamp overlap):\n",
    "\n",
    "    `df=df.drop_duplicates(subset=['lat','lng','timestamp'])`\n",
    "\n",
    "\n",
    "- Filter “reasonable” values for: \n",
    "\t- Accuracy - Make sure the values are >0\n",
    "\t- Timestamp - \n",
    "\t- Lat/lng\n",
    "- Providers that don’t fulfill a certain set of requirements: \n",
    "\t- Don’t have at least 100 points"
   ]
  },
  {
   "cell_type": "markdown",
   "metadata": {},
   "source": [
    "## Duplicated points\n",
    "Let's first see what the duplicated points look like"
   ]
  },
  {
   "cell_type": "code",
   "execution_count": 161,
   "metadata": {},
   "outputs": [
    {
     "data": {
      "text/html": [
       "<div>\n",
       "<style>\n",
       "    .dataframe thead tr:only-child th {\n",
       "        text-align: right;\n",
       "    }\n",
       "\n",
       "    .dataframe thead th {\n",
       "        text-align: left;\n",
       "    }\n",
       "\n",
       "    .dataframe tbody tr th {\n",
       "        vertical-align: top;\n",
       "    }\n",
       "</style>\n",
       "<table border=\"1\" class=\"dataframe\">\n",
       "  <thead>\n",
       "    <tr style=\"text-align: right;\">\n",
       "      <th></th>\n",
       "      <th>Unnamed: 0</th>\n",
       "      <th>provider</th>\n",
       "      <th>user_id</th>\n",
       "      <th>dtype</th>\n",
       "      <th>lat</th>\n",
       "      <th>lng</th>\n",
       "      <th>accuracy</th>\n",
       "      <th>timestamp</th>\n",
       "    </tr>\n",
       "  </thead>\n",
       "  <tbody>\n",
       "    <tr>\n",
       "      <th>29058</th>\n",
       "      <td>275540</td>\n",
       "      <td>1003</td>\n",
       "      <td>0000465c-6cac-4d97-a50d-2952d7527e68</td>\n",
       "      <td>IDFA</td>\n",
       "      <td>40.769588</td>\n",
       "      <td>-73.973801</td>\n",
       "      <td>10.0</td>\n",
       "      <td>1.495022e+09</td>\n",
       "    </tr>\n",
       "    <tr>\n",
       "      <th>1465557</th>\n",
       "      <td>201231</td>\n",
       "      <td>1003</td>\n",
       "      <td>0000465c-6cac-4d97-a50d-2952d7527e68</td>\n",
       "      <td>IDFA</td>\n",
       "      <td>40.769588</td>\n",
       "      <td>-73.973801</td>\n",
       "      <td>10.0</td>\n",
       "      <td>1.495022e+09</td>\n",
       "    </tr>\n",
       "    <tr>\n",
       "      <th>3061402</th>\n",
       "      <td>104212</td>\n",
       "      <td>1003</td>\n",
       "      <td>0000465c-6cac-4d97-a50d-2952d7527e68</td>\n",
       "      <td>IDFA</td>\n",
       "      <td>40.769588</td>\n",
       "      <td>-73.973801</td>\n",
       "      <td>10.0</td>\n",
       "      <td>1.495022e+09</td>\n",
       "    </tr>\n",
       "    <tr>\n",
       "      <th>949379</th>\n",
       "      <td>142989</td>\n",
       "      <td>1003</td>\n",
       "      <td>00010b27-f353-435d-bb02-1fd80a1bd3e4</td>\n",
       "      <td>IDFA</td>\n",
       "      <td>40.792099</td>\n",
       "      <td>-73.962852</td>\n",
       "      <td>10.0</td>\n",
       "      <td>1.495142e+09</td>\n",
       "    </tr>\n",
       "    <tr>\n",
       "      <th>2525386</th>\n",
       "      <td>274910</td>\n",
       "      <td>1003</td>\n",
       "      <td>00010b27-f353-435d-bb02-1fd80a1bd3e4</td>\n",
       "      <td>IDFA</td>\n",
       "      <td>40.792099</td>\n",
       "      <td>-73.962852</td>\n",
       "      <td>10.0</td>\n",
       "      <td>1.495142e+09</td>\n",
       "    </tr>\n",
       "    <tr>\n",
       "      <th>3878624</th>\n",
       "      <td>130421</td>\n",
       "      <td>1003</td>\n",
       "      <td>00010b27-f353-435d-bb02-1fd80a1bd3e4</td>\n",
       "      <td>IDFA</td>\n",
       "      <td>40.792099</td>\n",
       "      <td>-73.962852</td>\n",
       "      <td>10.0</td>\n",
       "      <td>1.495142e+09</td>\n",
       "    </tr>\n",
       "    <tr>\n",
       "      <th>469154</th>\n",
       "      <td>48869</td>\n",
       "      <td>1003</td>\n",
       "      <td>00010b27-f353-435d-bb02-1fd80a1bd3e4</td>\n",
       "      <td>IDFA</td>\n",
       "      <td>40.774330</td>\n",
       "      <td>-73.975563</td>\n",
       "      <td>1414.0</td>\n",
       "      <td>1.495144e+09</td>\n",
       "    </tr>\n",
       "    <tr>\n",
       "      <th>1906821</th>\n",
       "      <td>465269</td>\n",
       "      <td>1003</td>\n",
       "      <td>00010b27-f353-435d-bb02-1fd80a1bd3e4</td>\n",
       "      <td>IDFA</td>\n",
       "      <td>40.774330</td>\n",
       "      <td>-73.975563</td>\n",
       "      <td>1414.0</td>\n",
       "      <td>1.495144e+09</td>\n",
       "    </tr>\n",
       "    <tr>\n",
       "      <th>3503639</th>\n",
       "      <td>47889</td>\n",
       "      <td>1003</td>\n",
       "      <td>00010b27-f353-435d-bb02-1fd80a1bd3e4</td>\n",
       "      <td>IDFA</td>\n",
       "      <td>40.774330</td>\n",
       "      <td>-73.975563</td>\n",
       "      <td>1414.0</td>\n",
       "      <td>1.495144e+09</td>\n",
       "    </tr>\n",
       "    <tr>\n",
       "      <th>1319874</th>\n",
       "      <td>198588</td>\n",
       "      <td>1003</td>\n",
       "      <td>00010b27-f353-435d-bb02-1fd80a1bd3e4</td>\n",
       "      <td>IDFA</td>\n",
       "      <td>40.774090</td>\n",
       "      <td>-73.973244</td>\n",
       "      <td>1414.0</td>\n",
       "      <td>1.495749e+09</td>\n",
       "    </tr>\n",
       "    <tr>\n",
       "      <th>2857372</th>\n",
       "      <td>154946</td>\n",
       "      <td>1003</td>\n",
       "      <td>00010b27-f353-435d-bb02-1fd80a1bd3e4</td>\n",
       "      <td>IDFA</td>\n",
       "      <td>40.774090</td>\n",
       "      <td>-73.973244</td>\n",
       "      <td>1414.0</td>\n",
       "      <td>1.495749e+09</td>\n",
       "    </tr>\n",
       "    <tr>\n",
       "      <th>2871777</th>\n",
       "      <td>37055</td>\n",
       "      <td>1003</td>\n",
       "      <td>00010b27-f353-435d-bb02-1fd80a1bd3e4</td>\n",
       "      <td>IDFA</td>\n",
       "      <td>40.774090</td>\n",
       "      <td>-73.973244</td>\n",
       "      <td>1414.0</td>\n",
       "      <td>1.495749e+09</td>\n",
       "    </tr>\n",
       "    <tr>\n",
       "      <th>1299812</th>\n",
       "      <td>357033</td>\n",
       "      <td>1003</td>\n",
       "      <td>00010b27-f353-435d-bb02-1fd80a1bd3e4</td>\n",
       "      <td>IDFA</td>\n",
       "      <td>40.774181</td>\n",
       "      <td>-73.972542</td>\n",
       "      <td>1414.0</td>\n",
       "      <td>1.495751e+09</td>\n",
       "    </tr>\n",
       "    <tr>\n",
       "      <th>2972080</th>\n",
       "      <td>85597</td>\n",
       "      <td>1003</td>\n",
       "      <td>00010b27-f353-435d-bb02-1fd80a1bd3e4</td>\n",
       "      <td>IDFA</td>\n",
       "      <td>40.774181</td>\n",
       "      <td>-73.972542</td>\n",
       "      <td>1414.0</td>\n",
       "      <td>1.495751e+09</td>\n",
       "    </tr>\n",
       "    <tr>\n",
       "      <th>3864814</th>\n",
       "      <td>332130</td>\n",
       "      <td>1003</td>\n",
       "      <td>00010b27-f353-435d-bb02-1fd80a1bd3e4</td>\n",
       "      <td>IDFA</td>\n",
       "      <td>40.774181</td>\n",
       "      <td>-73.972542</td>\n",
       "      <td>1414.0</td>\n",
       "      <td>1.495751e+09</td>\n",
       "    </tr>\n",
       "    <tr>\n",
       "      <th>16137</th>\n",
       "      <td>22038</td>\n",
       "      <td>1003</td>\n",
       "      <td>00010b27-f353-435d-bb02-1fd80a1bd3e4</td>\n",
       "      <td>IDFA</td>\n",
       "      <td>40.784840</td>\n",
       "      <td>-73.967201</td>\n",
       "      <td>2000.0</td>\n",
       "      <td>1.495906e+09</td>\n",
       "    </tr>\n",
       "    <tr>\n",
       "      <th>702734</th>\n",
       "      <td>201630</td>\n",
       "      <td>1003</td>\n",
       "      <td>00010b27-f353-435d-bb02-1fd80a1bd3e4</td>\n",
       "      <td>IDFA</td>\n",
       "      <td>40.787472</td>\n",
       "      <td>-73.966591</td>\n",
       "      <td>2000.0</td>\n",
       "      <td>1.495906e+09</td>\n",
       "    </tr>\n",
       "    <tr>\n",
       "      <th>1450974</th>\n",
       "      <td>463140</td>\n",
       "      <td>1003</td>\n",
       "      <td>00010b27-f353-435d-bb02-1fd80a1bd3e4</td>\n",
       "      <td>IDFA</td>\n",
       "      <td>40.784840</td>\n",
       "      <td>-73.967201</td>\n",
       "      <td>2000.0</td>\n",
       "      <td>1.495906e+09</td>\n",
       "    </tr>\n",
       "    <tr>\n",
       "      <th>2293872</th>\n",
       "      <td>245598</td>\n",
       "      <td>1003</td>\n",
       "      <td>00010b27-f353-435d-bb02-1fd80a1bd3e4</td>\n",
       "      <td>IDFA</td>\n",
       "      <td>40.787472</td>\n",
       "      <td>-73.966591</td>\n",
       "      <td>2000.0</td>\n",
       "      <td>1.495906e+09</td>\n",
       "    </tr>\n",
       "    <tr>\n",
       "      <th>3027339</th>\n",
       "      <td>393334</td>\n",
       "      <td>1003</td>\n",
       "      <td>00010b27-f353-435d-bb02-1fd80a1bd3e4</td>\n",
       "      <td>IDFA</td>\n",
       "      <td>40.784840</td>\n",
       "      <td>-73.967201</td>\n",
       "      <td>2000.0</td>\n",
       "      <td>1.495906e+09</td>\n",
       "    </tr>\n",
       "    <tr>\n",
       "      <th>3628177</th>\n",
       "      <td>370952</td>\n",
       "      <td>1003</td>\n",
       "      <td>00010b27-f353-435d-bb02-1fd80a1bd3e4</td>\n",
       "      <td>IDFA</td>\n",
       "      <td>40.787472</td>\n",
       "      <td>-73.966591</td>\n",
       "      <td>2000.0</td>\n",
       "      <td>1.495906e+09</td>\n",
       "    </tr>\n",
       "    <tr>\n",
       "      <th>115387</th>\n",
       "      <td>498948</td>\n",
       "      <td>1003</td>\n",
       "      <td>00010b27-f353-435d-bb02-1fd80a1bd3e4</td>\n",
       "      <td>IDFA</td>\n",
       "      <td>40.782719</td>\n",
       "      <td>-73.970627</td>\n",
       "      <td>2000.0</td>\n",
       "      <td>1.495941e+09</td>\n",
       "    </tr>\n",
       "    <tr>\n",
       "      <th>1031938</th>\n",
       "      <td>131844</td>\n",
       "      <td>1003</td>\n",
       "      <td>00010b27-f353-435d-bb02-1fd80a1bd3e4</td>\n",
       "      <td>IDFA</td>\n",
       "      <td>40.782719</td>\n",
       "      <td>-73.970627</td>\n",
       "      <td>2000.0</td>\n",
       "      <td>1.495941e+09</td>\n",
       "    </tr>\n",
       "    <tr>\n",
       "      <th>2728819</th>\n",
       "      <td>373941</td>\n",
       "      <td>1003</td>\n",
       "      <td>00010b27-f353-435d-bb02-1fd80a1bd3e4</td>\n",
       "      <td>IDFA</td>\n",
       "      <td>40.782719</td>\n",
       "      <td>-73.970627</td>\n",
       "      <td>2000.0</td>\n",
       "      <td>1.495941e+09</td>\n",
       "    </tr>\n",
       "    <tr>\n",
       "      <th>187911</th>\n",
       "      <td>370358</td>\n",
       "      <td>1003</td>\n",
       "      <td>00010b27-f353-435d-bb02-1fd80a1bd3e4</td>\n",
       "      <td>IDFA</td>\n",
       "      <td>40.792881</td>\n",
       "      <td>-73.962189</td>\n",
       "      <td>2040.0</td>\n",
       "      <td>1.496022e+09</td>\n",
       "    </tr>\n",
       "    <tr>\n",
       "      <th>1651307</th>\n",
       "      <td>539489</td>\n",
       "      <td>1003</td>\n",
       "      <td>00010b27-f353-435d-bb02-1fd80a1bd3e4</td>\n",
       "      <td>IDFA</td>\n",
       "      <td>40.792881</td>\n",
       "      <td>-73.962189</td>\n",
       "      <td>2040.0</td>\n",
       "      <td>1.496022e+09</td>\n",
       "    </tr>\n",
       "    <tr>\n",
       "      <th>3154881</th>\n",
       "      <td>504346</td>\n",
       "      <td>1003</td>\n",
       "      <td>00010b27-f353-435d-bb02-1fd80a1bd3e4</td>\n",
       "      <td>IDFA</td>\n",
       "      <td>40.792881</td>\n",
       "      <td>-73.962189</td>\n",
       "      <td>2040.0</td>\n",
       "      <td>1.496022e+09</td>\n",
       "    </tr>\n",
       "    <tr>\n",
       "      <th>1159421</th>\n",
       "      <td>345610</td>\n",
       "      <td>1018</td>\n",
       "      <td>00020310-5ce8-4734-9a86-4ad404733028</td>\n",
       "      <td>IDFA</td>\n",
       "      <td>40.768009</td>\n",
       "      <td>-73.982162</td>\n",
       "      <td>65.0</td>\n",
       "      <td>1.495680e+09</td>\n",
       "    </tr>\n",
       "    <tr>\n",
       "      <th>1939066</th>\n",
       "      <td>5738</td>\n",
       "      <td>1156</td>\n",
       "      <td>00020310-5ce8-4734-9a86-4ad404733028</td>\n",
       "      <td>IDFA</td>\n",
       "      <td>40.768009</td>\n",
       "      <td>-73.982162</td>\n",
       "      <td>65.0</td>\n",
       "      <td>1.495680e+09</td>\n",
       "    </tr>\n",
       "    <tr>\n",
       "      <th>573632</th>\n",
       "      <td>476100</td>\n",
       "      <td>1156</td>\n",
       "      <td>00020310-5ce8-4734-9a86-4ad404733028</td>\n",
       "      <td>IDFA</td>\n",
       "      <td>40.784149</td>\n",
       "      <td>-73.968658</td>\n",
       "      <td>10.0</td>\n",
       "      <td>1.495812e+09</td>\n",
       "    </tr>\n",
       "  </tbody>\n",
       "</table>\n",
       "</div>"
      ],
      "text/plain": [
       "         Unnamed: 0  provider                               user_id dtype  \\\n",
       "29058        275540      1003  0000465c-6cac-4d97-a50d-2952d7527e68  IDFA   \n",
       "1465557      201231      1003  0000465c-6cac-4d97-a50d-2952d7527e68  IDFA   \n",
       "3061402      104212      1003  0000465c-6cac-4d97-a50d-2952d7527e68  IDFA   \n",
       "949379       142989      1003  00010b27-f353-435d-bb02-1fd80a1bd3e4  IDFA   \n",
       "2525386      274910      1003  00010b27-f353-435d-bb02-1fd80a1bd3e4  IDFA   \n",
       "3878624      130421      1003  00010b27-f353-435d-bb02-1fd80a1bd3e4  IDFA   \n",
       "469154        48869      1003  00010b27-f353-435d-bb02-1fd80a1bd3e4  IDFA   \n",
       "1906821      465269      1003  00010b27-f353-435d-bb02-1fd80a1bd3e4  IDFA   \n",
       "3503639       47889      1003  00010b27-f353-435d-bb02-1fd80a1bd3e4  IDFA   \n",
       "1319874      198588      1003  00010b27-f353-435d-bb02-1fd80a1bd3e4  IDFA   \n",
       "2857372      154946      1003  00010b27-f353-435d-bb02-1fd80a1bd3e4  IDFA   \n",
       "2871777       37055      1003  00010b27-f353-435d-bb02-1fd80a1bd3e4  IDFA   \n",
       "1299812      357033      1003  00010b27-f353-435d-bb02-1fd80a1bd3e4  IDFA   \n",
       "2972080       85597      1003  00010b27-f353-435d-bb02-1fd80a1bd3e4  IDFA   \n",
       "3864814      332130      1003  00010b27-f353-435d-bb02-1fd80a1bd3e4  IDFA   \n",
       "16137         22038      1003  00010b27-f353-435d-bb02-1fd80a1bd3e4  IDFA   \n",
       "702734       201630      1003  00010b27-f353-435d-bb02-1fd80a1bd3e4  IDFA   \n",
       "1450974      463140      1003  00010b27-f353-435d-bb02-1fd80a1bd3e4  IDFA   \n",
       "2293872      245598      1003  00010b27-f353-435d-bb02-1fd80a1bd3e4  IDFA   \n",
       "3027339      393334      1003  00010b27-f353-435d-bb02-1fd80a1bd3e4  IDFA   \n",
       "3628177      370952      1003  00010b27-f353-435d-bb02-1fd80a1bd3e4  IDFA   \n",
       "115387       498948      1003  00010b27-f353-435d-bb02-1fd80a1bd3e4  IDFA   \n",
       "1031938      131844      1003  00010b27-f353-435d-bb02-1fd80a1bd3e4  IDFA   \n",
       "2728819      373941      1003  00010b27-f353-435d-bb02-1fd80a1bd3e4  IDFA   \n",
       "187911       370358      1003  00010b27-f353-435d-bb02-1fd80a1bd3e4  IDFA   \n",
       "1651307      539489      1003  00010b27-f353-435d-bb02-1fd80a1bd3e4  IDFA   \n",
       "3154881      504346      1003  00010b27-f353-435d-bb02-1fd80a1bd3e4  IDFA   \n",
       "1159421      345610      1018  00020310-5ce8-4734-9a86-4ad404733028  IDFA   \n",
       "1939066        5738      1156  00020310-5ce8-4734-9a86-4ad404733028  IDFA   \n",
       "573632       476100      1156  00020310-5ce8-4734-9a86-4ad404733028  IDFA   \n",
       "\n",
       "               lat        lng  accuracy     timestamp  \n",
       "29058    40.769588 -73.973801      10.0  1.495022e+09  \n",
       "1465557  40.769588 -73.973801      10.0  1.495022e+09  \n",
       "3061402  40.769588 -73.973801      10.0  1.495022e+09  \n",
       "949379   40.792099 -73.962852      10.0  1.495142e+09  \n",
       "2525386  40.792099 -73.962852      10.0  1.495142e+09  \n",
       "3878624  40.792099 -73.962852      10.0  1.495142e+09  \n",
       "469154   40.774330 -73.975563    1414.0  1.495144e+09  \n",
       "1906821  40.774330 -73.975563    1414.0  1.495144e+09  \n",
       "3503639  40.774330 -73.975563    1414.0  1.495144e+09  \n",
       "1319874  40.774090 -73.973244    1414.0  1.495749e+09  \n",
       "2857372  40.774090 -73.973244    1414.0  1.495749e+09  \n",
       "2871777  40.774090 -73.973244    1414.0  1.495749e+09  \n",
       "1299812  40.774181 -73.972542    1414.0  1.495751e+09  \n",
       "2972080  40.774181 -73.972542    1414.0  1.495751e+09  \n",
       "3864814  40.774181 -73.972542    1414.0  1.495751e+09  \n",
       "16137    40.784840 -73.967201    2000.0  1.495906e+09  \n",
       "702734   40.787472 -73.966591    2000.0  1.495906e+09  \n",
       "1450974  40.784840 -73.967201    2000.0  1.495906e+09  \n",
       "2293872  40.787472 -73.966591    2000.0  1.495906e+09  \n",
       "3027339  40.784840 -73.967201    2000.0  1.495906e+09  \n",
       "3628177  40.787472 -73.966591    2000.0  1.495906e+09  \n",
       "115387   40.782719 -73.970627    2000.0  1.495941e+09  \n",
       "1031938  40.782719 -73.970627    2000.0  1.495941e+09  \n",
       "2728819  40.782719 -73.970627    2000.0  1.495941e+09  \n",
       "187911   40.792881 -73.962189    2040.0  1.496022e+09  \n",
       "1651307  40.792881 -73.962189    2040.0  1.496022e+09  \n",
       "3154881  40.792881 -73.962189    2040.0  1.496022e+09  \n",
       "1159421  40.768009 -73.982162      65.0  1.495680e+09  \n",
       "1939066  40.768009 -73.982162      65.0  1.495680e+09  \n",
       "573632   40.784149 -73.968658      10.0  1.495812e+09  "
      ]
     },
     "execution_count": 161,
     "metadata": {},
     "output_type": "execute_result"
    }
   ],
   "source": [
    "df[df.duplicated(subset=['lat','lng','timestamp'],keep=False)].sort_values(['user_id','timestamp']).head(30)"
   ]
  },
  {
   "cell_type": "markdown",
   "metadata": {},
   "source": [
    "Now drop the duplicates based on lat,lng,timestamp."
   ]
  },
  {
   "cell_type": "code",
   "execution_count": 162,
   "metadata": {
    "collapsed": true
   },
   "outputs": [],
   "source": [
    "df=df.drop_duplicates(subset=['lat','lng','timestamp'])"
   ]
  },
  {
   "cell_type": "markdown",
   "metadata": {},
   "source": [
    "We can see that there are a lot of duplicated points"
   ]
  },
  {
   "cell_type": "code",
   "execution_count": 163,
   "metadata": {},
   "outputs": [
    {
     "name": "stdout",
     "output_type": "stream",
     "text": [
      "Data is now (931067, 8) dimensions\n"
     ]
    }
   ],
   "source": [
    "print(\"Data is now {} dimensions\".format(df.shape))"
   ]
  },
  {
   "cell_type": "markdown",
   "metadata": {},
   "source": [
    "## Reasonable values"
   ]
  },
  {
   "cell_type": "markdown",
   "metadata": {},
   "source": [
    "### Accuracy\n",
    "Find points in which the accuracies do not make sense, i.e. `accuracy < 0` and then remove those users entirely.  \n",
    "\n",
    "We can see that there are not a ton of users so we don't lose that much data. "
   ]
  },
  {
   "cell_type": "code",
   "execution_count": 164,
   "metadata": {},
   "outputs": [
    {
     "data": {
      "text/plain": [
       "array(['9e9bcc3a-aeb8-4ca0-93f8-d91c6d5c840e',\n",
       "       'a3881367-ed30-4f44-9b08-b343d8cf2693',\n",
       "       '530be1c1-accd-4425-aea6-8a5502655c3e',\n",
       "       '3153ba85-2572-4d3f-b0f5-fec3874ebbe6'], dtype=object)"
      ]
     },
     "execution_count": 164,
     "metadata": {},
     "output_type": "execute_result"
    }
   ],
   "source": [
    "df[df.accuracy<0]['user_id'].unique()"
   ]
  },
  {
   "cell_type": "code",
   "execution_count": 165,
   "metadata": {
    "collapsed": true
   },
   "outputs": [],
   "source": [
    "df = df[df.accuracy>=0]"
   ]
  },
  {
   "cell_type": "markdown",
   "metadata": {},
   "source": [
    "### Timestamp\n",
    "\n",
    "Turn the timestamp into pandas datetime objects. And filter out for any potential timestamps that don't make sense and remove those users."
   ]
  },
  {
   "cell_type": "code",
   "execution_count": 166,
   "metadata": {},
   "outputs": [],
   "source": [
    "df['timestamp_new']= pd.to_datetime(df['timestamp'],unit='s')"
   ]
  },
  {
   "cell_type": "code",
   "execution_count": 167,
   "metadata": {},
   "outputs": [
    {
     "name": "stdout",
     "output_type": "stream",
     "text": [
      "Dimensions of bad dates less than (0, 9)\n"
     ]
    }
   ],
   "source": [
    "date_min = '2017-05-1'\n",
    "date_max = '2017-06-1'\n",
    "print(\"Dimensions of bad dates less than {}\".format(df[(df['timestamp_new']<date_min) |(df['timestamp_new']>date_max)].shape))"
   ]
  },
  {
   "cell_type": "markdown",
   "metadata": {},
   "source": [
    "### Lattitude/Longitude\n",
    "Plot a quick distribution of the lat/lngs to make sure they fall roughly in the proper range"
   ]
  },
  {
   "cell_type": "code",
   "execution_count": 168,
   "metadata": {},
   "outputs": [
    {
     "data": {
      "image/png": "[encoded data removed]",
      "text/plain": [
       "<matplotlib.figure.Figure at 0x17d46ce10>"
      ]
     },
     "metadata": {},
     "output_type": "display_data"
    }
   ],
   "source": [
    "plt.subplot(211)\n",
    "plt.hist(df.lng)\n",
    "\n",
    "plt.subplot(212)\n",
    "plt.hist(df.lat)\n",
    "# \n",
    "plt.show()"
   ]
  },
  {
   "cell_type": "markdown",
   "metadata": {},
   "source": [
    "### Bad providers\n",
    "We create a metric that determines what's a 'bad' provider. Let's call 'bad' providers those providers for which any of the following are true: \n",
    "* The provider has fewer than 100 points in total \n",
    "* The provider has fewer than 5 users.\n",
    "* The provider has an average accuracy greater than 100m\n",
    "\n",
    "First let's get some summary stats:\n",
    "- Count\n",
    "- Average accuracy"
   ]
  },
  {
   "cell_type": "code",
   "execution_count": 169,
   "metadata": {},
   "outputs": [],
   "source": [
    "df_summary = df.groupby('provider')\\\n",
    "                    .count()\\\n",
    "                    .sort_values('timestamp',ascending=False)[['timestamp']]\n",
    "df_summary =df_summary.merge(df.groupby('provider')\\\n",
    "                        .mean()\\\n",
    "                        .sort_values('timestamp',ascending=False)[['accuracy']], \\\n",
    "                left_index=True, \\\n",
    "                right_index=True)\n",
    "df_summary = df_summary.rename(columns={'timestamp': 'count'})"
   ]
  },
  {
   "cell_type": "markdown",
   "metadata": {},
   "source": [
    "Let's now take a look at the general distribution of accuracies across the different providers"
   ]
  },
  {
   "cell_type": "code",
   "execution_count": 181,
   "metadata": {},
   "outputs": [
    {
     "data": {
      "image/png": "[encoded data removed]",
      "text/plain": [
       "<matplotlib.figure.Figure at 0x175405940>"
      ]
     },
     "metadata": {},
     "output_type": "display_data"
    }
   ],
   "source": [
    "num_providers =df_summary.shape[0]\n",
    "grid_num = m.ceil(num_providers**(.5))\n",
    "plt.figure(figsize=(40,40))\n",
    "# fig = plt.figure(figsize=(30,30))\n",
    "\n",
    "for i,v in enumerate(df_summary.index):\n",
    "    plt.subplot(grid_num,grid_num,i+1)\n",
    "    plt.hist(df[df.provider ==v].accuracy,label=\"{}\".format(v))\n",
    "    plt.legend()\n",
    "\n",
    "plt.title('Distribution of Accuracies for Providers')\n",
    "plt.show()\n"
   ]
  },
  {
   "cell_type": "markdown",
   "metadata": {},
   "source": [
    "#### Counts per day\n",
    "Remove all those providers that have pings fewer than 10 pings a day."
   ]
  },
  {
   "cell_type": "code",
   "execution_count": 172,
   "metadata": {},
   "outputs": [],
   "source": [
    "time_range = (df['timestamp_new'].max()-df['timestamp_new'].min()).days\n",
    "df = df[df.provider.isin(list(df_summary[df_summary['count']/31>10].index))]"
   ]
  },
  {
   "cell_type": "code",
   "execution_count": 184,
   "metadata": {},
   "outputs": [
    {
     "name": "stdout",
     "output_type": "stream",
     "text": [
      "Data is now (929864, 9) dimensions\n"
     ]
    }
   ],
   "source": [
    "print(\"Data is now {} dimensions\".format(df.shape))"
   ]
  },
  {
   "cell_type": "markdown",
   "metadata": {},
   "source": [
    "#### Accuracies\n",
    "Remove all users that have more than 25% bad accuracies in their data. \n"
   ]
  },
  {
   "cell_type": "code",
   "execution_count": 214,
   "metadata": {},
   "outputs": [],
   "source": [
    "acc_perc = 0.25\n",
    "user_acc = df.groupby('user_id').apply(lambda x: x.quantile(q=1-acc_perc).accuracy )"
   ]
  },
  {
   "cell_type": "code",
   "execution_count": 228,
   "metadata": {},
   "outputs": [],
   "source": [
    "acc_thres = 100\n",
    "df = df[df.user_id.isin(user_acc[user_acc<acc_thres].index)]"
   ]
  },
  {
   "cell_type": "code",
   "execution_count": 229,
   "metadata": {},
   "outputs": [
    {
     "name": "stdout",
     "output_type": "stream",
     "text": [
      "Data is now (744261, 9) dimensions\n"
     ]
    }
   ],
   "source": [
    "print(\"Data is now {} dimensions\".format(df.shape))"
   ]
  },
  {
   "cell_type": "markdown",
   "metadata": {},
   "source": [
    "# Creating Features\n",
    "Identify the following characteristics for each point:\n",
    "- Unique trip\n",
    "- Velocty\n",
    "- Bearing\n",
    "- Travel mode\n",
    "\n",
    "\n"
   ]
  },
  {
   "cell_type": "markdown",
   "metadata": {},
   "source": [
    "## Unique trips\n",
    "For $N$ timestamps at each point $\\{t_{u,1},t_{u,2},...,t_{u,N}\\}$ for any user: \n",
    "\\begin{equation}\n",
    "trip_{u,1} = \\{t_{u,1},\\dots, t_{u,k}\\} \\quad \\textrm{s.t.}\\quad  |t_{u,k_i}-t_{u,k_j}|<\\epsilon \\\\\n",
    "\\vdots \\\\\n",
    "trip_{u,T} = \\{t_{u,N-l},\\dots, t_{u,N}\\} \\quad \\textrm{s.t.}\\quad  |t_{u,n_i}-t_{u,n_j}|<\\epsilon \\\\\n",
    "\\quad \\textrm{and}\\quad  \\\\\n",
    "|t_{u_k} - t_{u_n}|>\\epsilon\n",
    "\\end{equation}\n"
   ]
  },
  {
   "cell_type": "code",
   "execution_count": 256,
   "metadata": {
    "collapsed": true
   },
   "outputs": [],
   "source": [
    "from joblib import Parallel, delayed\n",
    "import multiprocessing\n",
    "from itertools import chain\n",
    "\n",
    "### We're parallelizing some of these functions \n",
    "def applyParallel(dfGrouped, func,col='timestamp'):\n",
    "    '''\n",
    "    Parallelizes groupby-apply functions\n",
    "    \n",
    "    dfGrouped = pandas group (from groupby function)\n",
    "    func = function that's applied to each group\n",
    "    col = Column in the for the operation\n",
    "    '''\n",
    "    retLst = Parallel(n_jobs=multiprocessing.cpu_count())(delayed(func)(group[col]) for name, group in dfGrouped)\n",
    "    return retLst\n",
    "\n",
    "def time_cluster_user(x,eps=1200): \n",
    "    '''\n",
    "    For each user, clusters their paths by timestamp, anything timestamp that's more than \n",
    "    some time-delta from each other gets binned into a separate path label. \n",
    "    \n",
    "    x = a series of timestamps for one user\n",
    "    eps = time-delta in seconds, depending on what the format timestamp is in\n",
    "    '''\n",
    "    x = x.sort_values()\n",
    "    x_diff = x.diff()\n",
    "    x_diff_rs =  x_diff.reset_index(drop=True)\n",
    "    breaks=x_diff_rs[x_diff_rs>eps].index.values\n",
    "    labels =x_diff.copy()\n",
    "    labels[:]=0\n",
    "    counter = 1\n",
    "    for each in breaks: \n",
    "        labels.iloc[each:]=counter\n",
    "        counter+=1\n",
    "\n",
    "    return dict(zip(labels.index.values,labels))\n",
    "\n",
    "\n",
    "def time_cluster(df,eps=1200):\n",
    "    '''\n",
    "    Runs the trip labels and dataframe indices \n",
    "    '''\n",
    "    trip_labels=applyParallel(df.groupby('user_id'), time_cluster_user)\n",
    "    \n",
    "    ### Trip labels for each user\n",
    "    labels = np.array(list(chain.from_iterable([list(t.values()) for t in trip_labels])))\n",
    "    ### Index for trip label\n",
    "    idx_val = np.array(list(chain.from_iterable([list(t.keys()) for t in trip_labels])))\n",
    "    print('Time clustering done')\n",
    "    return labels, idx_val"
   ]
  },
  {
   "cell_type": "code",
   "execution_count": 282,
   "metadata": {},
   "outputs": [
    {
     "name": "stderr",
     "output_type": "stream",
     "text": [
      "\n",
      "\n",
      "\n",
      "\n",
      "\n",
      "\n",
      "\n",
      "\n"
     ]
    },
    {
     "name": "stdout",
     "output_type": "stream",
     "text": [
      "Time clustering done\n"
     ]
    },
    {
     "name": "stderr",
     "output_type": "stream",
     "text": [
      "/Users/wenfeixu/anaconda2/envs/geo_wenfei/lib/python3.6/site-packages/pandas/core/indexing.py:517: SettingWithCopyWarning: \n",
      "A value is trying to be set on a copy of a slice from a DataFrame.\n",
      "Try using .loc[row_indexer,col_indexer] = value instead\n",
      "\n",
      "See the caveats in the documentation: http://pandas.pydata.org/pandas-docs/stable/indexing.html#indexing-view-versus-copy\n",
      "  self.obj[item] = s\n",
      "/Users/wenfeixu/anaconda2/envs/geo_wenfei/lib/python3.6/site-packages/ipykernel_launcher.py:4: SettingWithCopyWarning: \n",
      "A value is trying to be set on a copy of a slice from a DataFrame.\n",
      "Try using .loc[row_indexer,col_indexer] = value instead\n",
      "\n",
      "See the caveats in the documentation: http://pandas.pydata.org/pandas-docs/stable/indexing.html#indexing-view-versus-copy\n",
      "  after removing the cwd from sys.path.\n"
     ]
    }
   ],
   "source": [
    "#### Example for creating trip labels\n",
    "labels,label_indicies = time_cluster(df,1200)\n",
    "df.loc[list(label_indicies),'trip_ID']=labels\n",
    "df['trip_ID']=[\"{}_{}\".format(x,y) \\\n",
    "               for x,y in zip(df.user_id.values,\\\n",
    "                              df.trip_ID.values)]"
   ]
  },
  {
   "cell_type": "markdown",
   "metadata": {},
   "source": [
    "Now, let's re-index the data by trip ID and by timestamp"
   ]
  },
  {
   "cell_type": "code",
   "execution_count": 288,
   "metadata": {},
   "outputs": [],
   "source": [
    "df.sort_values(['trip_ID','timestamp']).reset_index(inplace=True)"
   ]
  },
  {
   "cell_type": "markdown",
   "metadata": {},
   "source": [
    "## Trip length\n",
    "Now that we have the trip_IDs, we can calculate the total time-delta of each trip. "
   ]
  },
  {
   "cell_type": "code",
   "execution_count": 347,
   "metadata": {},
   "outputs": [],
   "source": [
    "def trip_length(df_trip,col='timestamp'):\n",
    "    '''\n",
    "    Get's the trip length for one trip\n",
    "    '''\n",
    "    return df_trip[col].max()-df_trip[col].min()\n",
    "\n",
    "def trip_length_ALL(df,grp ='trip_ID',time_col='timestamp'):\n",
    "    trip_lengths = df.groupby(grp).apply(lambda x: trip_length(x,time_col))\n",
    "    return trip_lengths"
   ]
  },
  {
   "cell_type": "markdown",
   "metadata": {},
   "source": [
    "## Velocity \n",
    "We will define the velocity as: $$\\frac{d(p_i,p_j)}{t_{p_i}-t_{p_j}}$$ , where distance is in meters and time is per hour.\n",
    "\n",
    "\n",
    "Here, we can calculate distances using either the Great Circle or Vincenty. Great Circle is faster but less precise. From Wikipedia: \n",
    "* \"Vincenty's formulae are two related iterative methods used in geodesy to calculate the distance between two points on the surface of a spheroid, developed by Thaddeus Vincenty (1975a) They are based on the assumption that the figure of the Earth is an oblate spheroid, and hence are more accurate than methods such as great-circle distance which assume a spherical Earth\""
   ]
  },
  {
   "cell_type": "markdown",
   "metadata": {},
   "source": [
    "Here are some functions that will help us in this calculation"
   ]
  },
  {
   "cell_type": "code",
   "execution_count": 302,
   "metadata": {
    "collapsed": true
   },
   "outputs": [],
   "source": [
    "from geopy.distance import great_circle\n",
    "from geopy.distance import vincenty\n",
    "\n",
    "### We can calculate distances using either the Great Circle or Vincenty\n",
    "def distance_vinc(x1,x2):\n",
    "    return vincenty(x1,x2).meters\n",
    "\n",
    "def distance_great_circle(x1,x2):\n",
    "    '''\n",
    "    where x1,x2 are in the form (lng,lnt)\n",
    "    '''\n",
    "    return great_circle(x1,x2).meters"
   ]
  },
  {
   "cell_type": "code",
   "execution_count": 324,
   "metadata": {
    "collapsed": true
   },
   "outputs": [],
   "source": [
    "#### SKETCH\n",
    "def function_to_calc_velocity(df):\n",
    "    '''\n",
    "    Calculate the velocity per set of points in the trip. \n",
    "    One velocity will be assigned to each point\n",
    "\n",
    "    Remember to skip the first row, which should get a value of 0\n",
    "    '''\n",
    "    velocities = df.apply(lambda x: distance_great_circle((x['lng'],x['lat']),\\\n",
    "                                       (x.shift(-1)['lng'],x.shift(-1)['lat']))/\\\n",
    "                          (x.shift(-1)['timestamp']-x.shift['timestamp']),axis=1)\n",
    "\n",
    "    return velocities\n"
   ]
  },
  {
   "cell_type": "markdown",
   "metadata": {},
   "source": [
    "## Bearing"
   ]
  },
  {
   "cell_type": "code",
   "execution_count": 337,
   "metadata": {},
   "outputs": [],
   "source": [
    "#### SKETCH: I got this from stackoverflow answer somewhere, but never revised\n",
    "def comp_bearing(self,pointA, pointB):\n",
    "    \"\"\"\n",
    "    Calculates the bearing between two points.\n",
    "    The formulae used is the following:\n",
    "        θ = atan2(sin(Δlong).cos(lat2),\n",
    "                  cos(lat1).sin(lat2) − sin(lat1).cos(lat2).cos(Δlong))\n",
    "    :Parameters:\n",
    "      - `pointA: The tuple representing the latitude/longitude for the\n",
    "        first point. Latitude and longitude must be in decimal degrees\n",
    "      - `pointB: The tuple representing the latitude/longitude for the\n",
    "        second point. Latitude and longitude must be in decimal degrees\n",
    "    :Returns:\n",
    "      The bearing in degrees\n",
    "    :Returns Type:\n",
    "      float\n",
    "    \"\"\"\n",
    "    if (type(pointA) != tuple) or (type(pointB) != tuple):\n",
    "        raise TypeError(\"Only tuples are supported as arguments\")\n",
    "\n",
    "    lat1 = math.radians(pointA[0])\n",
    "    lat2 = math.radians(pointB[0])\n",
    "\n",
    "    diffLong = math.radians(pointB[1] - pointA[1])\n",
    "\n",
    "    x = math.sin(diffLong) * math.cos(lat2)\n",
    "    y = math.cos(lat1) * math.sin(lat2) - (math.sin(lat1)\n",
    "            * math.cos(lat2) * math.cos(diffLong))\n",
    "\n",
    "    initial_bearing = math.atan2(x, y)\n",
    "\n",
    "    # Now we have the initial bearing but math.atan2 return values\n",
    "    # from -180° to + 180° which is not what we want for a compass bearing\n",
    "    # The solution is to normalize the initial bearing as shown below\n",
    "    initial_bearing = math.degrees(initial_bearing)\n",
    "    compass_bearing = (initial_bearing + 360) % 360\n",
    "\n",
    "    return compass_bearing\n"
   ]
  },
  {
   "cell_type": "markdown",
   "metadata": {},
   "source": [
    "### Trip mode\n",
    "Using the velocity that's been calculated, we can then calculate a trip mode. "
   ]
  },
  {
   "cell_type": "code",
   "execution_count": 338,
   "metadata": {},
   "outputs": [],
   "source": [
    "def trip_mode(df):\n",
    "\n",
    "    '''\n",
    "    if (velocity<.05) :\n",
    "        df.loc[i,'travel_mode']='stay'\n",
    "    elif (velocity <3.1) and (velocity >=.05):\n",
    "        df.loc[i,'travel_mode']='walking'\n",
    "    elif (velocity <10) and (velocity >=3.1):\n",
    "        df.loc[i,'travel_mode']='running'\n",
    "    else:\n",
    "        df.loc[i,'travel_mode']='other' \n",
    "    '''\n",
    "    return df\n"
   ]
  },
  {
   "cell_type": "markdown",
   "metadata": {},
   "source": [
    "## HDBSCAN\n",
    "Read the docs for how HDBSCAN works here: http://hdbscan.readthedocs.io/en/latest/how_hdbscan_works.html\n",
    "\n",
    "The spatial clustering itself is quite straightfoward; however, we need to find the appropriate `min_pts` to calculate. One method is find the density of points in the area we are looking at, and then to callibrate the min points based on that. \n"
   ]
  },
  {
   "cell_type": "markdown",
   "metadata": {},
   "source": [
    "This is an example of how the `min_pts` was calculated for the parks project. For $M_p$= minimum number of points in the cluster, $N_p$ = total number of points in the dataframe, $a_p$ area of the region in consideration. The range of all possible points is $[10,100]$. \n",
    "$$M_p = min(max(\\frac{100*N_p}{a_p},10),100)$$"
   ]
  },
  {
   "cell_type": "code",
   "execution_count": 340,
   "metadata": {},
   "outputs": [],
   "source": [
    "### Find the park area\n",
    "park_area = park_geoms.groupby('signname').sum()['area_m'].loc[park]\n",
    "\n",
    "### The min_pts in the cluster\n",
    "def get_min_pts(df,area):\n",
    "    min_pts=min(max(int(len(df)/area*100),10),100)\n",
    "    return min_pts"
   ]
  },
  {
   "cell_type": "markdown",
   "metadata": {},
   "source": [
    "Once we have $M_p$, the minimum number of points in the cluster, we can use the HDBSCAN algorithm. "
   ]
  },
  {
   "cell_type": "code",
   "execution_count": null,
   "metadata": {
    "collapsed": true
   },
   "outputs": [],
   "source": [
    "\n",
    "def get_centermost_point(cluster):\n",
    "    centroid = (MultiPoint(cluster).centroid.x, MultiPoint(cluster).centroid.y)\n",
    "    centermost_point = min(cluster, key=lambda point: great_circle(point, centroid).m)\n",
    "    return tuple(centermost_point)\n",
    "\n",
    "def hdbscan_spatial(coords,min_pts):\n",
    "    '''\n",
    "    Create the clusters using **HDBSCAN**.\n",
    "    coords = df[['lng','lat']].values\n",
    "    '''\n",
    "    \n",
    "    clusterer = hdbscan.HDBSCAN(min_cluster_size=min_pts)\n",
    "\n",
    "    cluster_labels = clusterer.fit_predict(coords)\n",
    "    num_clusters = len(set(cluster_labels))\n",
    "    clusters = pd.Series([coords[cluster_labels== n] for n in range(num_clusters)])\n",
    "    \n",
    "    ### Optional: return the center\n",
    "    centermost_points = clusters[:-1].map(get_centermost_point)\n",
    "\n",
    "    return(cluster_labels,num_clusters,clusters)\n"
   ]
  },
  {
   "cell_type": "markdown",
   "metadata": {},
   "source": [
    "## Dwelltime\n",
    "For each cluster, or any set of points where we know that there is a subset of a trip in this set, we can calculate a dwellltime. So, for\n",
    "\n",
    "\\begin{equation}\n",
    "trip_{u,1} =\\{t_{u,1},\\dots, t_{u,k}\\} \\\\\n",
    "\\vdots \\\\\n",
    "trip_{u,T} = \\{t_{u,N-l},\\dots, t_{u,N}\\} \\quad \\textrm{s.t.}\\quad  |t_{u,n_i}-t_{u,n_j}|<\\epsilon \\\\\n",
    "\\quad \\textrm{and}\\quad  \\\\\n",
    "|t_{u_k} - t_{u_n}|>\\epsilon\n",
    "\\end{equation}"
   ]
  },
  {
   "cell_type": "code",
   "execution_count": null,
   "metadata": {
    "collapsed": true
   },
   "outputs": [],
   "source": [
    "def dwelltime(self,df,time_cluster_col):\n",
    "    '''\n",
    "    For each user and time-period, divide their path into segments \n",
    "    and get the average dwell-time for each of those path segments\n",
    "    '''\n",
    "    dwelltimes_df = df.groupby(['user_id',time_cluster_col])['timestamp'].agg(lambda x: x.max()-x.min())\n",
    "    temp_ = df.set_index(['user_id',time_cluster_col])\n",
    "    dwelltimes_userpath=temp_.index.map(lambda x: dwelltimes_df.loc[x]).values\n",
    "\n",
    "    return dwelltimes_userpath"
   ]
  }
 ],
 "metadata": {
  "kernelspec": {
   "display_name": "Python 3",
   "language": "python",
   "name": "python3"
  },
  "language_info": {
   "codemirror_mode": {
    "name": "ipython",
    "version": 3
   },
   "file_extension": ".py",
   "mimetype": "text/x-python",
   "name": "python",
   "nbconvert_exporter": "python",
   "pygments_lexer": "ipython3",
   "version": "3.6.1"
  }
 },
 "nbformat": 4,
 "nbformat_minor": 2
}
