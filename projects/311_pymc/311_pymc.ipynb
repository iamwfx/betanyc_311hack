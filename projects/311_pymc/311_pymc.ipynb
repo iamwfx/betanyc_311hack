{
 "cells": [
  {
   "cell_type": "code",
   "execution_count": 1,
   "metadata": {
    "collapsed": true
   },
   "outputs": [],
   "source": [
    "import csv\n",
    "import os\n",
    "import numpy as np\n",
    "import matplotlib.pyplot as plt\n",
    "import pymc3 as pm\n",
    "import dask.dataframe as dd\n",
    "import geopandas as gpd\n",
    "import requests\n",
    "import pandas as pd\n",
    "from multiprocessing import Pool\n",
    "\n",
    "import json\n",
    "%matplotlib notebook\n",
    "\n",
    "from shapely.geometry import Point\n"
   ]
  },
  {
   "cell_type": "markdown",
   "metadata": {},
   "source": [
    "## First get the census data\n",
    "We're mostly concerned with populatition, race, and income here. "
   ]
  },
  {
   "cell_type": "code",
   "execution_count": 2,
   "metadata": {},
   "outputs": [
    {
     "name": "stdout",
     "output_type": "stream",
     "text": [
      "bronx\n",
      "(339, 1469)\n",
      "kings\n",
      "(761, 1469)\n",
      "ny\n",
      "(288, 1469)\n",
      "queens\n",
      "(669, 1469)\n",
      "richmond\n",
      "(110, 1469)\n"
     ]
    }
   ],
   "source": [
    "census_path='data/ACS/NewYorkCity'\n",
    "census = gpd.read_file(census_path+'/acs_2015_nyc.shp')\n",
    "boroughs=['bronx','kings','ny','queens','richmond']\n",
    "all_df_list=[]\n",
    "for each in boroughs:\n",
    "    print(each)\n",
    "    \n",
    "    dir_=census_path+'/'+each\n",
    "    for root,dirs,files in os.walk(dir_):\n",
    "        df_list = []\n",
    "        for file in files:\n",
    "            if file.endswith(\"with_ann.csv\"):\n",
    "                df_name = file.split('.')[0]\n",
    "                \n",
    "                df_name = pd.read_csv(dir_+'/'+file)\n",
    "                df_name = df_name.iloc[1:]\n",
    "#                 print(df_name.shape)\n",
    "                df_list.append(df_name)\n",
    "        all_ = pd.concat(df_list,axis=1)\n",
    "        print (all_.shape)\n",
    "    all_df_list.append(all_)\n",
    "#     print(all_df_list[0].head(0))\n",
    "all_boroughs = pd.concat(all_df_list)\n"
   ]
  },
  {
   "cell_type": "markdown",
   "metadata": {},
   "source": [
    "## Clean the census data"
   ]
  },
  {
   "cell_type": "code",
   "execution_count": 3,
   "metadata": {},
   "outputs": [
    {
     "name": "stderr",
     "output_type": "stream",
     "text": [
      "/Users/wenfeixu/anaconda2/envs/geo_wenfei/lib/python3.6/site-packages/ipykernel_launcher.py:5: DeprecationWarning: \n",
      ".ix is deprecated. Please use\n",
      ".loc for label based indexing or\n",
      ".iloc for positional indexing\n",
      "\n",
      "See the documentation here:\n",
      "http://pandas.pydata.org/pandas-docs/stable/indexing.html#deprecate_ix\n",
      "  \"\"\"\n"
     ]
    },
    {
     "data": {
      "text/html": [
       "<div>\n",
       "<style>\n",
       "    .dataframe thead tr:only-child th {\n",
       "        text-align: right;\n",
       "    }\n",
       "\n",
       "    .dataframe thead th {\n",
       "        text-align: left;\n",
       "    }\n",
       "\n",
       "    .dataframe tbody tr th {\n",
       "        vertical-align: top;\n",
       "    }\n",
       "</style>\n",
       "<table border=\"1\" class=\"dataframe\">\n",
       "  <thead>\n",
       "    <tr style=\"text-align: right;\">\n",
       "      <th></th>\n",
       "      <th>GEO.id</th>\n",
       "      <th>GEO.id2</th>\n",
       "      <th>GEO.display-label</th>\n",
       "      <th>population</th>\n",
       "      <th>white_alone</th>\n",
       "      <th>black_alone</th>\n",
       "      <th>asian_alone</th>\n",
       "      <th>other_race</th>\n",
       "      <th>hispanic</th>\n",
       "      <th>median_income</th>\n",
       "    </tr>\n",
       "  </thead>\n",
       "  <tbody>\n",
       "    <tr>\n",
       "      <th>1</th>\n",
       "      <td>1400000US36005000100</td>\n",
       "      <td>36005000100</td>\n",
       "      <td>Census Tract 1, Bronx County, New York</td>\n",
       "      <td>7703</td>\n",
       "      <td>363</td>\n",
       "      <td>13</td>\n",
       "      <td>0</td>\n",
       "      <td>1855</td>\n",
       "      <td>2307</td>\n",
       "      <td>-</td>\n",
       "    </tr>\n",
       "    <tr>\n",
       "      <th>2</th>\n",
       "      <td>1400000US36005000200</td>\n",
       "      <td>36005000200</td>\n",
       "      <td>Census Tract 2, Bronx County, New York</td>\n",
       "      <td>5403</td>\n",
       "      <td>295</td>\n",
       "      <td>9</td>\n",
       "      <td>0</td>\n",
       "      <td>1496</td>\n",
       "      <td>4095</td>\n",
       "      <td>72034</td>\n",
       "    </tr>\n",
       "    <tr>\n",
       "      <th>3</th>\n",
       "      <td>1400000US36005000400</td>\n",
       "      <td>36005000400</td>\n",
       "      <td>Census Tract 4, Bronx County, New York</td>\n",
       "      <td>5915</td>\n",
       "      <td>405</td>\n",
       "      <td>14</td>\n",
       "      <td>0</td>\n",
       "      <td>1567</td>\n",
       "      <td>3709</td>\n",
       "      <td>74836</td>\n",
       "    </tr>\n",
       "    <tr>\n",
       "      <th>4</th>\n",
       "      <td>1400000US36005001600</td>\n",
       "      <td>36005001600</td>\n",
       "      <td>Census Tract 16, Bronx County, New York</td>\n",
       "      <td>5879</td>\n",
       "      <td>405</td>\n",
       "      <td>0</td>\n",
       "      <td>0</td>\n",
       "      <td>1307</td>\n",
       "      <td>3829</td>\n",
       "      <td>32312</td>\n",
       "    </tr>\n",
       "    <tr>\n",
       "      <th>5</th>\n",
       "      <td>1400000US36005001900</td>\n",
       "      <td>36005001900</td>\n",
       "      <td>Census Tract 19, Bronx County, New York</td>\n",
       "      <td>2591</td>\n",
       "      <td>237</td>\n",
       "      <td>0</td>\n",
       "      <td>0</td>\n",
       "      <td>1024</td>\n",
       "      <td>1436</td>\n",
       "      <td>37936</td>\n",
       "    </tr>\n",
       "  </tbody>\n",
       "</table>\n",
       "</div>"
      ],
      "text/plain": [
       "                 GEO.id      GEO.id2                        GEO.display-label  \\\n",
       "1  1400000US36005000100  36005000100   Census Tract 1, Bronx County, New York   \n",
       "2  1400000US36005000200  36005000200   Census Tract 2, Bronx County, New York   \n",
       "3  1400000US36005000400  36005000400   Census Tract 4, Bronx County, New York   \n",
       "4  1400000US36005001600  36005001600  Census Tract 16, Bronx County, New York   \n",
       "5  1400000US36005001900  36005001900  Census Tract 19, Bronx County, New York   \n",
       "\n",
       "  population white_alone black_alone asian_alone other_race hispanic  \\\n",
       "1       7703         363          13           0       1855     2307   \n",
       "2       5403         295           9           0       1496     4095   \n",
       "3       5915         405          14           0       1567     3709   \n",
       "4       5879         405           0           0       1307     3829   \n",
       "5       2591         237           0           0       1024     1436   \n",
       "\n",
       "  median_income  \n",
       "1             -  \n",
       "2         72034  \n",
       "3         74836  \n",
       "4         32312  \n",
       "5         37936  "
      ]
     },
     "execution_count": 3,
     "metadata": {},
     "output_type": "execute_result"
    }
   ],
   "source": [
    "##white,black,asian,other (non Indian or Hawaian),median income est\n",
    "all_boroughs_cleaned = all_boroughs[['GEO.id', 'GEO.id2', 'GEO.display-label','HD01_VD01','HD02_VD02','HD01_VD04','HD01_VD06','HD01_VD07','HD01_VD12','HC02_EST_VC02']]\n",
    "\n",
    "# ## Select the columns that aren't duplicated\n",
    "all_boroughs_cleaned= all_boroughs_cleaned.ix[:,[0,7,14,21,25,26,28,30,32,34]]\n",
    "all_boroughs_cleaned=all_boroughs_cleaned.rename(columns={'HD01_VD01':'population','HD02_VD02':'white_alone','HD01_VD04':'black_alone','HD01_VD05':'native_alone','HD01_VD06':'asian_alone','HD01_VD07':'other_race','HD01_VD12':'hispanic','HC02_EST_VC02':'median_income'})\n",
    "all_boroughs_cleaned.head()"
   ]
  },
  {
   "cell_type": "code",
   "execution_count": 4,
   "metadata": {},
   "outputs": [],
   "source": [
    "### Clean census data\n",
    "\n",
    "## Create a tract GEOID\n",
    "census['GEOID_tract']=census.apply(lambda x: x['GEOID'][:11],axis=1)"
   ]
  },
  {
   "cell_type": "markdown",
   "metadata": {},
   "source": [
    "## Spatial join\n",
    "Merge census shapes to data."
   ]
  },
  {
   "cell_type": "code",
   "execution_count": 5,
   "metadata": {},
   "outputs": [],
   "source": [
    "### Join shape with data\n",
    "census_withdata = census.merge(all_boroughs_cleaned,how='inner',left_on='GEOID_tract',right_on='GEO.id2')"
   ]
  },
  {
   "cell_type": "code",
   "execution_count": 6,
   "metadata": {},
   "outputs": [
    {
     "data": {
      "text/html": [
       "<div>\n",
       "<style>\n",
       "    .dataframe thead tr:only-child th {\n",
       "        text-align: right;\n",
       "    }\n",
       "\n",
       "    .dataframe thead th {\n",
       "        text-align: left;\n",
       "    }\n",
       "\n",
       "    .dataframe tbody tr th {\n",
       "        vertical-align: top;\n",
       "    }\n",
       "</style>\n",
       "<table border=\"1\" class=\"dataframe\">\n",
       "  <thead>\n",
       "    <tr style=\"text-align: right;\">\n",
       "      <th></th>\n",
       "      <th>ACS_HD01_V</th>\n",
       "      <th>AFFGEOID</th>\n",
       "      <th>ALAND</th>\n",
       "      <th>AWATER</th>\n",
       "      <th>BLKGRPCE</th>\n",
       "      <th>COUNTYFP</th>\n",
       "      <th>GEOID</th>\n",
       "      <th>LSAD</th>\n",
       "      <th>NAME</th>\n",
       "      <th>STATEFP</th>\n",
       "      <th>...</th>\n",
       "      <th>GEO.id</th>\n",
       "      <th>GEO.id2</th>\n",
       "      <th>GEO.display-label</th>\n",
       "      <th>population</th>\n",
       "      <th>white_alone</th>\n",
       "      <th>black_alone</th>\n",
       "      <th>asian_alone</th>\n",
       "      <th>other_race</th>\n",
       "      <th>hispanic</th>\n",
       "      <th>median_income</th>\n",
       "    </tr>\n",
       "  </thead>\n",
       "  <tbody>\n",
       "    <tr>\n",
       "      <th>0</th>\n",
       "      <td>1568</td>\n",
       "      <td>1500000US360850156031</td>\n",
       "      <td>332908</td>\n",
       "      <td>0</td>\n",
       "      <td>1</td>\n",
       "      <td>085</td>\n",
       "      <td>360850156031</td>\n",
       "      <td>BG</td>\n",
       "      <td>1</td>\n",
       "      <td>36</td>\n",
       "      <td>...</td>\n",
       "      <td>1400000US36085015603</td>\n",
       "      <td>36085015603</td>\n",
       "      <td>Census Tract 156.03, Richmond County, New York</td>\n",
       "      <td>4596</td>\n",
       "      <td>391</td>\n",
       "      <td>0</td>\n",
       "      <td>0</td>\n",
       "      <td>37</td>\n",
       "      <td>305</td>\n",
       "      <td>90604</td>\n",
       "    </tr>\n",
       "    <tr>\n",
       "      <th>1</th>\n",
       "      <td>1578</td>\n",
       "      <td>1500000US360850156033</td>\n",
       "      <td>393835</td>\n",
       "      <td>0</td>\n",
       "      <td>3</td>\n",
       "      <td>085</td>\n",
       "      <td>360850156033</td>\n",
       "      <td>BG</td>\n",
       "      <td>3</td>\n",
       "      <td>36</td>\n",
       "      <td>...</td>\n",
       "      <td>1400000US36085015603</td>\n",
       "      <td>36085015603</td>\n",
       "      <td>Census Tract 156.03, Richmond County, New York</td>\n",
       "      <td>4596</td>\n",
       "      <td>391</td>\n",
       "      <td>0</td>\n",
       "      <td>0</td>\n",
       "      <td>37</td>\n",
       "      <td>305</td>\n",
       "      <td>90604</td>\n",
       "    </tr>\n",
       "    <tr>\n",
       "      <th>2</th>\n",
       "      <td>1450</td>\n",
       "      <td>1500000US360850156032</td>\n",
       "      <td>320367</td>\n",
       "      <td>0</td>\n",
       "      <td>2</td>\n",
       "      <td>085</td>\n",
       "      <td>360850156032</td>\n",
       "      <td>BG</td>\n",
       "      <td>2</td>\n",
       "      <td>36</td>\n",
       "      <td>...</td>\n",
       "      <td>1400000US36085015603</td>\n",
       "      <td>36085015603</td>\n",
       "      <td>Census Tract 156.03, Richmond County, New York</td>\n",
       "      <td>4596</td>\n",
       "      <td>391</td>\n",
       "      <td>0</td>\n",
       "      <td>0</td>\n",
       "      <td>37</td>\n",
       "      <td>305</td>\n",
       "      <td>90604</td>\n",
       "    </tr>\n",
       "    <tr>\n",
       "      <th>3</th>\n",
       "      <td>720</td>\n",
       "      <td>1500000US360050004001</td>\n",
       "      <td>62874</td>\n",
       "      <td>0</td>\n",
       "      <td>1</td>\n",
       "      <td>005</td>\n",
       "      <td>360050004001</td>\n",
       "      <td>BG</td>\n",
       "      <td>1</td>\n",
       "      <td>36</td>\n",
       "      <td>...</td>\n",
       "      <td>1400000US36005000400</td>\n",
       "      <td>36005000400</td>\n",
       "      <td>Census Tract 4, Bronx County, New York</td>\n",
       "      <td>5915</td>\n",
       "      <td>405</td>\n",
       "      <td>14</td>\n",
       "      <td>0</td>\n",
       "      <td>1567</td>\n",
       "      <td>3709</td>\n",
       "      <td>74836</td>\n",
       "    </tr>\n",
       "    <tr>\n",
       "      <th>4</th>\n",
       "      <td>1435</td>\n",
       "      <td>1500000US360050004002</td>\n",
       "      <td>328785</td>\n",
       "      <td>5538</td>\n",
       "      <td>2</td>\n",
       "      <td>005</td>\n",
       "      <td>360050004002</td>\n",
       "      <td>BG</td>\n",
       "      <td>2</td>\n",
       "      <td>36</td>\n",
       "      <td>...</td>\n",
       "      <td>1400000US36005000400</td>\n",
       "      <td>36005000400</td>\n",
       "      <td>Census Tract 4, Bronx County, New York</td>\n",
       "      <td>5915</td>\n",
       "      <td>405</td>\n",
       "      <td>14</td>\n",
       "      <td>0</td>\n",
       "      <td>1567</td>\n",
       "      <td>3709</td>\n",
       "      <td>74836</td>\n",
       "    </tr>\n",
       "  </tbody>\n",
       "</table>\n",
       "<p>5 rows × 23 columns</p>\n",
       "</div>"
      ],
      "text/plain": [
       "  ACS_HD01_V               AFFGEOID   ALAND  AWATER BLKGRPCE COUNTYFP  \\\n",
       "0       1568  1500000US360850156031  332908       0        1      085   \n",
       "1       1578  1500000US360850156033  393835       0        3      085   \n",
       "2       1450  1500000US360850156032  320367       0        2      085   \n",
       "3        720  1500000US360050004001   62874       0        1      005   \n",
       "4       1435  1500000US360050004002  328785    5538        2      005   \n",
       "\n",
       "          GEOID LSAD NAME STATEFP      ...                     GEO.id  \\\n",
       "0  360850156031   BG    1      36      ...       1400000US36085015603   \n",
       "1  360850156033   BG    3      36      ...       1400000US36085015603   \n",
       "2  360850156032   BG    2      36      ...       1400000US36085015603   \n",
       "3  360050004001   BG    1      36      ...       1400000US36005000400   \n",
       "4  360050004002   BG    2      36      ...       1400000US36005000400   \n",
       "\n",
       "       GEO.id2                               GEO.display-label population  \\\n",
       "0  36085015603  Census Tract 156.03, Richmond County, New York       4596   \n",
       "1  36085015603  Census Tract 156.03, Richmond County, New York       4596   \n",
       "2  36085015603  Census Tract 156.03, Richmond County, New York       4596   \n",
       "3  36005000400          Census Tract 4, Bronx County, New York       5915   \n",
       "4  36005000400          Census Tract 4, Bronx County, New York       5915   \n",
       "\n",
       "  white_alone black_alone asian_alone other_race hispanic median_income  \n",
       "0         391           0           0         37      305         90604  \n",
       "1         391           0           0         37      305         90604  \n",
       "2         391           0           0         37      305         90604  \n",
       "3         405          14           0       1567     3709         74836  \n",
       "4         405          14           0       1567     3709         74836  \n",
       "\n",
       "[5 rows x 23 columns]"
      ]
     },
     "execution_count": 6,
     "metadata": {},
     "output_type": "execute_result"
    }
   ],
   "source": [
    "census_withdata.head()"
   ]
  },
  {
   "cell_type": "markdown",
   "metadata": {},
   "source": [
    "## Then get the 311 noise complaint data\n",
    "Only want 2016 and newer"
   ]
  },
  {
   "cell_type": "code",
   "execution_count": 7,
   "metadata": {
    "collapsed": true
   },
   "outputs": [],
   "source": [
    "def read_csv(filename):\n",
    "    'converts a filename to a pandas dataframe'\n",
    "    return pd.read_csv(filename)\n",
    "\n",
    "def parse_dates(df):\n",
    "    return pd.to_datetime(df['Created Date'],infer_datetime_format=True)\n",
    "meta = ('timestamp', pd.Timestamp)\n",
    "\n",
    "\n",
    "# reader = pd.read_table(LARGE_FILE, chunksize=CHUNKSIZE)\n",
    "# pool = mp.Pool(4) # use 4 processes\n",
    "\n",
    "# funclist = []\n",
    "# for df in reader:\n",
    "#         # process each data frame\n",
    "#         f = pool.apply_async(process_frame,[df])\n",
    "#         funclist.append(f)\n",
    "\n",
    "# result = 0\n",
    "# for f in funclist:\n",
    "#         result += f.get(timeout=10) # timeout in 10 seconds"
   ]
  },
  {
   "cell_type": "markdown",
   "metadata": {},
   "source": [
    "# Import 311 data\n",
    "- Generate new features\n",
    "- Subset only the columns we care about"
   ]
  },
  {
   "cell_type": "code",
   "execution_count": 8,
   "metadata": {},
   "outputs": [
    {
     "name": "stderr",
     "output_type": "stream",
     "text": [
      "/Users/wenfeixu/anaconda2/envs/geo_wenfei/lib/python3.6/site-packages/IPython/core/interactiveshell.py:2698: DtypeWarning: Columns (8,17) have mixed types. Specify dtype option on import or set low_memory=False.\n",
      "  interactivity=interactivity, compiler=compiler, result=result)\n"
     ]
    }
   ],
   "source": [
    "threeoneone = pd.read_csv('data/311_Service_DOT_since2016.csv')\n"
   ]
  },
  {
   "cell_type": "code",
   "execution_count": 9,
   "metadata": {},
   "outputs": [
    {
     "data": {
      "text/plain": [
       "Index(['Unique Key', 'Created Date', 'Closed Date', 'Agency', 'Agency Name',\n",
       "       'Complaint Type', 'Descriptor', 'Location Type', 'Incident Zip',\n",
       "       'Incident Address', 'Street Name', 'Cross Street 1', 'Cross Street 2',\n",
       "       'Intersection Street 1', 'Intersection Street 2', 'Address Type',\n",
       "       'City', 'Landmark', 'Facility Type', 'Status', 'Due Date',\n",
       "       'Resolution Description', 'Resolution Action Updated Date',\n",
       "       'Community Board', 'Borough', 'X Coordinate (State Plane)',\n",
       "       'Y Coordinate (State Plane)', 'Park Facility Name', 'Park Borough',\n",
       "       'School Name', 'School Number', 'School Region', 'School Code',\n",
       "       'School Phone Number', 'School Address', 'School City', 'School State',\n",
       "       'School Zip', 'School Not Found', 'School or Citywide Complaint',\n",
       "       'Vehicle Type', 'Taxi Company Borough', 'Taxi Pick Up Location',\n",
       "       'Bridge Highway Name', 'Bridge Highway Direction', 'Road Ramp',\n",
       "       'Bridge Highway Segment', 'Garage Lot Name', 'Ferry Direction',\n",
       "       'Ferry Terminal Name', 'Latitude', 'Longitude', 'Location'],\n",
       "      dtype='object')"
      ]
     },
     "execution_count": 9,
     "metadata": {},
     "output_type": "execute_result"
    }
   ],
   "source": [
    "threeoneone.columns"
   ]
  },
  {
   "cell_type": "code",
   "execution_count": 10,
   "metadata": {},
   "outputs": [],
   "source": [
    "threeoneone=threeoneone[threeoneone['Complaint Type'].str.contains(\"Street Sign - Missing\")]\n",
    "# threeoneone = threeoneonebthreeoneone['Agency']=='NYPD']\n",
    "\n",
    "threeoneone['created_date'] = pd.to_datetime(threeoneone['Created Date'],infer_datetime_format=True)\n",
    "threeoneone['created_year'] = threeoneone['created_date'].apply(lambda x: x.year)\n",
    "\n",
    "\n",
    "threeoneone['closed_date'] = pd.to_datetime(threeoneone['Closed Date'],infer_datetime_format=True)\n",
    "threeoneone['due_date'] = pd.to_datetime(threeoneone['Due Date'],infer_datetime_format=True)\n",
    "\n",
    "\n",
    "\n",
    "new=threeoneone[['Unique Key', 'Created Date', 'Closed Date',\n",
    "       'Complaint Type', 'Descriptor', 'Location Type', 'Incident Zip',\n",
    "       'Incident Address', 'Street Name', 'Address Type',\n",
    "       'City', 'Landmark', 'Facility Type', 'Status', 'Due Date',\n",
    "       'Resolution Action Updated Date', 'Community Board', 'Borough', 'Latitude',\n",
    "       'Longitude', 'Location', 'closed_date', 'created_date', 'created_year']]\n",
    "\n"
   ]
  },
  {
   "cell_type": "markdown",
   "metadata": {},
   "source": [
    "# Keep only the data from 2016 and beyond"
   ]
  },
  {
   "cell_type": "code",
   "execution_count": 11,
   "metadata": {
    "collapsed": true
   },
   "outputs": [],
   "source": [
    "new=new[new['created_year']>=2016]"
   ]
  },
  {
   "cell_type": "code",
   "execution_count": 12,
   "metadata": {},
   "outputs": [
    {
     "data": {
      "text/plain": [
       "(5534, 24)"
      ]
     },
     "execution_count": 12,
     "metadata": {},
     "output_type": "execute_result"
    }
   ],
   "source": [
    "new.shape"
   ]
  },
  {
   "cell_type": "code",
   "execution_count": 13,
   "metadata": {},
   "outputs": [
    {
     "data": {
      "text/html": [
       "<div>\n",
       "<style>\n",
       "    .dataframe thead tr:only-child th {\n",
       "        text-align: right;\n",
       "    }\n",
       "\n",
       "    .dataframe thead th {\n",
       "        text-align: left;\n",
       "    }\n",
       "\n",
       "    .dataframe tbody tr th {\n",
       "        vertical-align: top;\n",
       "    }\n",
       "</style>\n",
       "<table border=\"1\" class=\"dataframe\">\n",
       "  <thead>\n",
       "    <tr style=\"text-align: right;\">\n",
       "      <th></th>\n",
       "      <th>Unique Key</th>\n",
       "      <th>Created Date</th>\n",
       "      <th>Closed Date</th>\n",
       "      <th>Complaint Type</th>\n",
       "      <th>Descriptor</th>\n",
       "      <th>Location Type</th>\n",
       "      <th>Incident Zip</th>\n",
       "      <th>Incident Address</th>\n",
       "      <th>Street Name</th>\n",
       "      <th>Address Type</th>\n",
       "      <th>...</th>\n",
       "      <th>Due Date</th>\n",
       "      <th>Resolution Action Updated Date</th>\n",
       "      <th>Community Board</th>\n",
       "      <th>Borough</th>\n",
       "      <th>Latitude</th>\n",
       "      <th>Longitude</th>\n",
       "      <th>Location</th>\n",
       "      <th>closed_date</th>\n",
       "      <th>created_date</th>\n",
       "      <th>created_year</th>\n",
       "    </tr>\n",
       "  </thead>\n",
       "  <tbody>\n",
       "    <tr>\n",
       "      <th>0</th>\n",
       "      <td>34945045</td>\n",
       "      <td>12/06/2016 12:00:07 PM</td>\n",
       "      <td>07/07/2017 10:50:35 AM</td>\n",
       "      <td>Street Sign - Missing</td>\n",
       "      <td>No Parking, Standing, Stopping</td>\n",
       "      <td>Street</td>\n",
       "      <td>11101</td>\n",
       "      <td>36-01 48 AVENUE</td>\n",
       "      <td>48 AVENUE</td>\n",
       "      <td>ADDRESS</td>\n",
       "      <td>...</td>\n",
       "      <td>06/06/2017 10:14:44 AM</td>\n",
       "      <td>07/07/2017 10:50:35 AM</td>\n",
       "      <td>02 QUEENS</td>\n",
       "      <td>QUEENS</td>\n",
       "      <td>40.740485</td>\n",
       "      <td>-73.929527</td>\n",
       "      <td>(40.74048470018655, -73.92952679533303)</td>\n",
       "      <td>2017-07-07 10:50:35</td>\n",
       "      <td>2016-12-06 12:00:07</td>\n",
       "      <td>2016</td>\n",
       "    </tr>\n",
       "    <tr>\n",
       "      <th>1</th>\n",
       "      <td>36123304</td>\n",
       "      <td>05/06/2017 02:23:44 PM</td>\n",
       "      <td>08/29/2017 09:54:23 AM</td>\n",
       "      <td>Street Sign - Missing</td>\n",
       "      <td>No Parking, Standing, Stopping</td>\n",
       "      <td>Street</td>\n",
       "      <td>11377</td>\n",
       "      <td>50-23 70 STREET</td>\n",
       "      <td>70 STREET</td>\n",
       "      <td>ADDRESS</td>\n",
       "      <td>...</td>\n",
       "      <td>11/07/2017 11:18:38 AM</td>\n",
       "      <td>08/29/2017 09:54:23 AM</td>\n",
       "      <td>02 QUEENS</td>\n",
       "      <td>QUEENS</td>\n",
       "      <td>40.736544</td>\n",
       "      <td>-73.894172</td>\n",
       "      <td>(40.73654361978754, -73.89417194034857)</td>\n",
       "      <td>2017-08-29 09:54:23</td>\n",
       "      <td>2017-05-06 14:23:44</td>\n",
       "      <td>2017</td>\n",
       "    </tr>\n",
       "    <tr>\n",
       "      <th>4</th>\n",
       "      <td>36298767</td>\n",
       "      <td>05/28/2017 07:25:19 PM</td>\n",
       "      <td>08/29/2017 09:49:13 AM</td>\n",
       "      <td>Street Sign - Missing</td>\n",
       "      <td>No Parking, Standing, Stopping</td>\n",
       "      <td>Street</td>\n",
       "      <td>11693</td>\n",
       "      <td>8400 SHORE FRONT PARKWAY</td>\n",
       "      <td>SHORE FRONT PARKWAY</td>\n",
       "      <td>ADDRESS</td>\n",
       "      <td>...</td>\n",
       "      <td>11/27/2017 11:34:32 AM</td>\n",
       "      <td>08/29/2017 09:49:13 AM</td>\n",
       "      <td>14 QUEENS</td>\n",
       "      <td>QUEENS</td>\n",
       "      <td>40.585343</td>\n",
       "      <td>-73.809740</td>\n",
       "      <td>(40.585342891917264, -73.80974049886493)</td>\n",
       "      <td>2017-08-29 09:49:13</td>\n",
       "      <td>2017-05-28 19:25:19</td>\n",
       "      <td>2017</td>\n",
       "    </tr>\n",
       "    <tr>\n",
       "      <th>9</th>\n",
       "      <td>36822417</td>\n",
       "      <td>07/29/2017 10:52:15 AM</td>\n",
       "      <td>08/29/2017 06:32:42 AM</td>\n",
       "      <td>Street Sign - Missing</td>\n",
       "      <td>Bus Stop</td>\n",
       "      <td>Street</td>\n",
       "      <td>10465</td>\n",
       "      <td>510 THROGS NECK EXPRESSWAY</td>\n",
       "      <td>THROGS NECK EXPRESSWAY</td>\n",
       "      <td>ADDRESS</td>\n",
       "      <td>...</td>\n",
       "      <td>01/28/2018 11:29:18 AM</td>\n",
       "      <td>08/29/2017 06:32:42 AM</td>\n",
       "      <td>10 BRONX</td>\n",
       "      <td>BRONX</td>\n",
       "      <td>40.824559</td>\n",
       "      <td>-73.815325</td>\n",
       "      <td>(40.82455859523637, -73.81532545508581)</td>\n",
       "      <td>2017-08-29 06:32:42</td>\n",
       "      <td>2017-07-29 10:52:15</td>\n",
       "      <td>2017</td>\n",
       "    </tr>\n",
       "    <tr>\n",
       "      <th>25</th>\n",
       "      <td>34968780</td>\n",
       "      <td>12/10/2016 01:40:21 AM</td>\n",
       "      <td>06/12/2017 04:02:18 PM</td>\n",
       "      <td>Street Sign - Missing</td>\n",
       "      <td>Street Cleaning - ASP</td>\n",
       "      <td>Street</td>\n",
       "      <td>11372</td>\n",
       "      <td>88-01 ROOSEVELT AVENUE</td>\n",
       "      <td>ROOSEVELT AVENUE</td>\n",
       "      <td>ADDRESS</td>\n",
       "      <td>...</td>\n",
       "      <td>06/11/2017 02:39:56 PM</td>\n",
       "      <td>06/12/2017 04:02:18 PM</td>\n",
       "      <td>03 QUEENS</td>\n",
       "      <td>QUEENS</td>\n",
       "      <td>40.748245</td>\n",
       "      <td>-73.878205</td>\n",
       "      <td>(40.74824519166426, -73.87820488543346)</td>\n",
       "      <td>2017-06-12 16:02:18</td>\n",
       "      <td>2016-12-10 01:40:21</td>\n",
       "      <td>2016</td>\n",
       "    </tr>\n",
       "  </tbody>\n",
       "</table>\n",
       "<p>5 rows × 24 columns</p>\n",
       "</div>"
      ],
      "text/plain": [
       "    Unique Key            Created Date             Closed Date  \\\n",
       "0     34945045  12/06/2016 12:00:07 PM  07/07/2017 10:50:35 AM   \n",
       "1     36123304  05/06/2017 02:23:44 PM  08/29/2017 09:54:23 AM   \n",
       "4     36298767  05/28/2017 07:25:19 PM  08/29/2017 09:49:13 AM   \n",
       "9     36822417  07/29/2017 10:52:15 AM  08/29/2017 06:32:42 AM   \n",
       "25    34968780  12/10/2016 01:40:21 AM  06/12/2017 04:02:18 PM   \n",
       "\n",
       "           Complaint Type                      Descriptor Location Type  \\\n",
       "0   Street Sign - Missing  No Parking, Standing, Stopping        Street   \n",
       "1   Street Sign - Missing  No Parking, Standing, Stopping        Street   \n",
       "4   Street Sign - Missing  No Parking, Standing, Stopping        Street   \n",
       "9   Street Sign - Missing                        Bus Stop        Street   \n",
       "25  Street Sign - Missing           Street Cleaning - ASP        Street   \n",
       "\n",
       "   Incident Zip            Incident Address             Street Name  \\\n",
       "0         11101             36-01 48 AVENUE               48 AVENUE   \n",
       "1         11377             50-23 70 STREET               70 STREET   \n",
       "4         11693    8400 SHORE FRONT PARKWAY     SHORE FRONT PARKWAY   \n",
       "9         10465  510 THROGS NECK EXPRESSWAY  THROGS NECK EXPRESSWAY   \n",
       "25        11372      88-01 ROOSEVELT AVENUE        ROOSEVELT AVENUE   \n",
       "\n",
       "   Address Type      ...                     Due Date  \\\n",
       "0       ADDRESS      ...       06/06/2017 10:14:44 AM   \n",
       "1       ADDRESS      ...       11/07/2017 11:18:38 AM   \n",
       "4       ADDRESS      ...       11/27/2017 11:34:32 AM   \n",
       "9       ADDRESS      ...       01/28/2018 11:29:18 AM   \n",
       "25      ADDRESS      ...       06/11/2017 02:39:56 PM   \n",
       "\n",
       "   Resolution Action Updated Date  Community Board Borough   Latitude  \\\n",
       "0          07/07/2017 10:50:35 AM        02 QUEENS  QUEENS  40.740485   \n",
       "1          08/29/2017 09:54:23 AM        02 QUEENS  QUEENS  40.736544   \n",
       "4          08/29/2017 09:49:13 AM        14 QUEENS  QUEENS  40.585343   \n",
       "9          08/29/2017 06:32:42 AM         10 BRONX   BRONX  40.824559   \n",
       "25         06/12/2017 04:02:18 PM        03 QUEENS  QUEENS  40.748245   \n",
       "\n",
       "    Longitude                                  Location         closed_date  \\\n",
       "0  -73.929527   (40.74048470018655, -73.92952679533303) 2017-07-07 10:50:35   \n",
       "1  -73.894172   (40.73654361978754, -73.89417194034857) 2017-08-29 09:54:23   \n",
       "4  -73.809740  (40.585342891917264, -73.80974049886493) 2017-08-29 09:49:13   \n",
       "9  -73.815325   (40.82455859523637, -73.81532545508581) 2017-08-29 06:32:42   \n",
       "25 -73.878205   (40.74824519166426, -73.87820488543346) 2017-06-12 16:02:18   \n",
       "\n",
       "          created_date  created_year  \n",
       "0  2016-12-06 12:00:07          2016  \n",
       "1  2017-05-06 14:23:44          2017  \n",
       "4  2017-05-28 19:25:19          2017  \n",
       "9  2017-07-29 10:52:15          2017  \n",
       "25 2016-12-10 01:40:21          2016  \n",
       "\n",
       "[5 rows x 24 columns]"
      ]
     },
     "execution_count": 13,
     "metadata": {},
     "output_type": "execute_result"
    }
   ],
   "source": [
    "new.head()"
   ]
  },
  {
   "cell_type": "code",
   "execution_count": 14,
   "metadata": {
    "collapsed": true
   },
   "outputs": [],
   "source": [
    "# new=new[['Unique Key', 'Complaint Type',\n",
    "#        'Descriptor', 'Location Type', 'Incident Zip', 'Incident Address',\n",
    "#        'Street Name', 'Address Type', 'City', 'Landmark', 'Facility Type',\n",
    "#        'Status', 'Due Date', 'Resolution Action Updated Date',\n",
    "#        'Community Board', 'Borough', 'Latitude', 'Longitude', 'Location',\n",
    "#        'created_date', 'created_year', 'due_date', 'closed_date']]\n",
    "\n",
    "# ### Let just use residential complaints\n",
    "# # new = new[new['Complaint Type']=='Noise - Residential']\n"
   ]
  },
  {
   "cell_type": "markdown",
   "metadata": {},
   "source": [
    "# For now, let's just use 20k of points"
   ]
  },
  {
   "cell_type": "code",
   "execution_count": 15,
   "metadata": {},
   "outputs": [],
   "source": [
    "##  For the sake of this exercise, let's just get a subsample so spatial joins are faster\n",
    "new_sample = new.copy()"
   ]
  },
  {
   "cell_type": "markdown",
   "metadata": {},
   "source": [
    "## Create dummy variables for the months"
   ]
  },
  {
   "cell_type": "code",
   "execution_count": 16,
   "metadata": {},
   "outputs": [],
   "source": [
    "new_sample = pd.concat([new_sample,pd.get_dummies(new_sample['created_date'].apply(lambda x: x.month))],axis=1)"
   ]
  },
  {
   "cell_type": "markdown",
   "metadata": {},
   "source": [
    "## Turn the 311 data into geopandas dataframe"
   ]
  },
  {
   "cell_type": "code",
   "execution_count": 17,
   "metadata": {
    "collapsed": true
   },
   "outputs": [],
   "source": [
    "geom = [Point(xy) for xy in zip(new_sample['Longitude'],new_sample['Latitude'])]\n",
    "crs = {'init':'epsg:4326'}\n",
    "threeoneone_geo = gpd.GeoDataFrame(new_sample,crs = crs,geometry=geom)"
   ]
  },
  {
   "cell_type": "markdown",
   "metadata": {},
   "source": [
    "## Create fix features"
   ]
  },
  {
   "cell_type": "code",
   "execution_count": 18,
   "metadata": {},
   "outputs": [],
   "source": [
    "threeoneone_geo['fix_time']=threeoneone_geo['closed_date']-threeoneone_geo['created_date']\n",
    "threeoneone_geo['fix_time_sec']= [x / np.timedelta64(1, 's') for x in threeoneone_geo['fix_time']]"
   ]
  },
  {
   "cell_type": "markdown",
   "metadata": {},
   "source": [
    "## Filter 311 data\n",
    "- 311 is not null geometry\n",
    "- Time to fix is not more than instantaneous"
   ]
  },
  {
   "cell_type": "code",
   "execution_count": 19,
   "metadata": {
    "collapsed": true
   },
   "outputs": [],
   "source": [
    "threeoneone_geo = threeoneone_geo[threeoneone_geo['Latitude'].notnull()]\n",
    "threeoneone_geo = threeoneone_geo[threeoneone_geo['fix_time_sec'].notnull()]\n",
    "threeoneone_geo = threeoneone_geo[threeoneone_geo['fix_time_sec']>0]"
   ]
  },
  {
   "cell_type": "markdown",
   "metadata": {},
   "source": [
    "## Change CRS of both 311 and Census to 4326\n"
   ]
  },
  {
   "cell_type": "code",
   "execution_count": 20,
   "metadata": {
    "collapsed": true
   },
   "outputs": [],
   "source": [
    "threeoneone_geo = threeoneone_geo.to_crs({'init': 'epsg:4326'})\n",
    "census_withdata = census_withdata.to_crs({'init': 'epsg:4326'})"
   ]
  },
  {
   "cell_type": "markdown",
   "metadata": {},
   "source": [
    "## Then join 311 to census tracts\n",
    "Get counts. "
   ]
  },
  {
   "cell_type": "code",
   "execution_count": 21,
   "metadata": {
    "collapsed": true
   },
   "outputs": [],
   "source": [
    "# threeoneone_geo_sample = threeoneone_geo.sample(5000)\n",
    "threeoneone_census = gpd.sjoin(threeoneone_geo,census_withdata, how=\"inner\", op='within')"
   ]
  },
  {
   "cell_type": "code",
   "execution_count": 22,
   "metadata": {},
   "outputs": [
    {
     "name": "stdout",
     "output_type": "stream",
     "text": [
      "(4696, 64)\n"
     ]
    }
   ],
   "source": [
    "### Add the complaint count back in\n",
    "complaint_count=threeoneone_census[['GEOID_tract','Complaint Type']].groupby('GEOID_tract').count().reset_index()\n",
    "complaint_count=complaint_count.rename(columns={'Complaint Type':\"complaint_count\"})\n",
    "\n",
    "avg_fix_time = threeoneone_census[['GEOID_tract','fix_time_sec']].groupby('GEOID_tract').mean().reset_index()\n",
    "avg_fix_time=avg_fix_time.rename(columns={'fix_time_sec':\"avg_fix_time_sec\"})\n",
    "\n",
    "\n",
    "threeoneone_census_complaints = threeoneone_census.merge(complaint_count,how='inner',left_on='GEOID_tract',right_on='GEOID_tract')\n",
    "threeoneone_census_complaints = threeoneone_census_complaints.merge(avg_fix_time,how='inner',left_on='GEOID_tract',right_on='GEOID_tract')\n",
    "\n",
    "\n",
    "# print(threeoneone_census_complaints.shape)\n",
    "\n",
    "## Remove the zero poplation tracts\n",
    "threeoneone_census_complaints=threeoneone_census_complaints[threeoneone_census_complaints['population']!=0]\n",
    "print(threeoneone_census_complaints.shape)\n",
    "\n",
    "## Remove infinites\n",
    "threeoneone_census_complaints= threeoneone_census_complaints.replace([np.inf, -np.inf], np.nan)\n",
    "\n",
    "# # threeoneone_census_complaints.columns"
   ]
  },
  {
   "cell_type": "markdown",
   "metadata": {
    "collapsed": true
   },
   "source": [
    "## Normalize the data a bit\n"
   ]
  },
  {
   "cell_type": "code",
   "execution_count": 23,
   "metadata": {
    "collapsed": true
   },
   "outputs": [],
   "source": [
    "threeoneone_census_complaints['complaint_density']=threeoneone_census_complaints['complaint_count'].astype('float')/threeoneone_census_complaints['population'].astype('float')\n",
    "\n",
    "# ## Calc race proportions\n",
    "threeoneone_census_complaints['perc_white']=threeoneone_census_complaints['white_alone'].astype('float')/threeoneone_census_complaints['population'].astype('float')\n",
    "threeoneone_census_complaints['perc_black']=threeoneone_census_complaints['black_alone'].astype('float')/threeoneone_census_complaints['population'].astype('float')\n",
    "threeoneone_census_complaints['perc_asian']=threeoneone_census_complaints['asian_alone'].astype('float')/threeoneone_census_complaints['population'].astype('float')\n",
    "threeoneone_census_complaints['perc_other']=threeoneone_census_complaints['other_race'].astype('float')/threeoneone_census_complaints['population'].astype('float')\n",
    "threeoneone_census_complaints['perc_hispanic']=threeoneone_census_complaints['hispanic'].astype('float')/threeoneone_census_complaints['population'].astype('float')\n",
    "\n",
    "\n",
    "\n",
    "# threeoneone_census_complaints['perc_white']=threeoneone_census_complaints['white_alone'].astype('float')/threeoneone_census_complaints['population'].astype('float')\n",
    "# threeoneone_census_complaints['perc_black']=threeoneone_census_complaints['black_alone'].astype('float')/threeoneone_census_complaints['population'].astype('float')\n",
    "# threeoneone_census_complaints['perc_asian']=threeoneone_census_complaints['asian_alone'].astype('float')/threeoneone_census_complaints['population'].astype('float')\n",
    "# threeoneone_census_complaints['perc_other']=threeoneone_census_complaints['other_race'].astype('float')/threeoneone_census_complaints['population'].astype('float')\n"
   ]
  },
  {
   "cell_type": "code",
   "execution_count": 24,
   "metadata": {},
   "outputs": [],
   "source": [
    "# threeoneone_census_complaints[['perc_asian','GEOID_tract']].groupby('GEOID_tract').count().reset_index()"
   ]
  },
  {
   "cell_type": "markdown",
   "metadata": {},
   "source": [
    "## Last bit of data cleaning"
   ]
  },
  {
   "cell_type": "code",
   "execution_count": 25,
   "metadata": {},
   "outputs": [
    {
     "data": {
      "text/plain": [
       "array(['55756', '65625', '44689', ..., '45642', '31842', '27222'], dtype=object)"
      ]
     },
     "execution_count": 25,
     "metadata": {},
     "output_type": "execute_result"
    }
   ],
   "source": [
    "threeoneone_census_complaints['median_income'].unique()"
   ]
  },
  {
   "cell_type": "code",
   "execution_count": 26,
   "metadata": {},
   "outputs": [],
   "source": [
    "\n",
    "threeoneone_census_complaints['median_income'] =threeoneone_census_complaints['median_income'].str.replace('[^\\w\\s]','0')\n",
    "inc_list = []\n",
    "for each in threeoneone_census_complaints['median_income']:\n",
    "    try: \n",
    "        inc_list.append(float(each))\n",
    "    except ValueError: \n",
    "        inc_list.append(0)\n",
    "threeoneone_census_complaints['median_income_new'] = inc_list            \n",
    "    \n",
    "\n",
    "# ## Still have some weird inf problems\n",
    "# threeoneone_census_complaints= threeoneone_census_complaints.replace([np.inf, -np.inf], np.nan)\n",
    "\n",
    "# ## Removing all the null values\n",
    "threeoneone_census_complaints=threeoneone_census_complaints[~threeoneone_census_complaints['complaint_density'].isin([np.inf])]\n",
    "\n",
    "# ## let's just clean the data a little further\n",
    "# threeoneone_census_complaints =threeoneone_census_complaints[threeoneone_census_complaints['median_income_new']!=0]"
   ]
  },
  {
   "cell_type": "markdown",
   "metadata": {},
   "source": [
    "## Aggregate to the census tract level"
   ]
  },
  {
   "cell_type": "code",
   "execution_count": 27,
   "metadata": {},
   "outputs": [],
   "source": [
    "# def agg_311(df,count_col,*args):\n",
    "# #     df = pd.DataFrame(df)\n",
    "#     df_count = df.groupby(['GEOID_tract']).count()[count_col] ## Pick an arbitrary column to get the aggregated counts\n",
    "#     df_mean = df.groupby(['GEOID_tract']).mean()[list(args)]\n",
    "# #     print(df_mean.head())\n",
    "#     return pd.concat([df_count,df_mean],axis=1)\n",
    "\n",
    "# agg_311(threeoneone_census_complaints,'Borough','perc_white','perc_black','perc_asian','perc_other','ln_median_income_new','avg_fix_time_sec')\n",
    "    \n",
    "    "
   ]
  },
  {
   "cell_type": "markdown",
   "metadata": {},
   "source": [
    "## Do some exploratory data analysis"
   ]
  },
  {
   "cell_type": "code",
   "execution_count": 28,
   "metadata": {},
   "outputs": [
    {
     "data": {
      "image/png": "[encoded data removed]",
      "text/plain": [
       "<matplotlib.figure.Figure at 0x139edbac8>"
      ]
     },
     "metadata": {},
     "output_type": "display_data"
    }
   ],
   "source": [
    "### Plot distribution of fix times\n",
    "%matplotlib inline\n",
    "# plt.hist(np.log(threeoneone_geo['fix_time_sec']+1),bins=100)\n",
    "plt.hist(threeoneone_geo['fix_time_sec']/60,bins=100)\n",
    "plt.show()\n",
    "\n",
    "### Is this Poisson distributed?"
   ]
  },
  {
   "cell_type": "code",
   "execution_count": 29,
   "metadata": {},
   "outputs": [
    {
     "data": {
      "image/png": "[encoded data removed]",
      "text/plain": [
       "<matplotlib.figure.Figure at 0x12f6bafd0>"
      ]
     },
     "metadata": {},
     "output_type": "display_data"
    }
   ],
   "source": [
    "##### Fix time density also log-normal-ish\n",
    "plt.hist(np.log(threeoneone_census_complaints[threeoneone_census_complaints['avg_fix_time_sec']>0]['avg_fix_time_sec']),bins=100)\n",
    "plt.show()"
   ]
  },
  {
   "cell_type": "code",
   "execution_count": 30,
   "metadata": {},
   "outputs": [
    {
     "data": {
      "image/png": "[encoded data removed]",
      "text/plain": [
       "<matplotlib.figure.Figure at 0x1359a6748>"
      ]
     },
     "metadata": {},
     "output_type": "display_data"
    }
   ],
   "source": [
    "### Complaint density also log-normal\n",
    "plt.hist(np.log(threeoneone_census_complaints[threeoneone_census_complaints['complaint_density']>0]['complaint_density']+1),bins=100)\n",
    "plt.show()"
   ]
  },
  {
   "cell_type": "code",
   "execution_count": 31,
   "metadata": {},
   "outputs": [
    {
     "data": {
      "image/png": "[encoded data removed]",
      "text/plain": [
       "<matplotlib.figure.Figure at 0x12f6ba208>"
      ]
     },
     "metadata": {},
     "output_type": "display_data"
    }
   ],
   "source": [
    "### Race density bimodal?\n",
    "plt.hist(threeoneone_census_complaints[threeoneone_census_complaints['perc_white']>0]['perc_white'],bins=100)\n",
    "plt.show()"
   ]
  },
  {
   "cell_type": "code",
   "execution_count": 32,
   "metadata": {},
   "outputs": [],
   "source": [
    "census_finaldata = census[['GEOID_tract','geometry']].merge(threeoneone_census_complaints.drop('geometry',1),how='outer',left_on='GEOID_tract',right_on = 'GEOID_tract')\n",
    "census_finaldata = gpd.GeoDataFrame(census_finaldata.drop('geometry',1),geometry=census_finaldata['geometry'],crs=census.crs)"
   ]
  },
  {
   "cell_type": "code",
   "execution_count": 33,
   "metadata": {},
   "outputs": [
    {
     "data": {
      "text/plain": [
       "<matplotlib.axes._subplots.AxesSubplot at 0x131d77668>"
      ]
     },
     "execution_count": 33,
     "metadata": {},
     "output_type": "execute_result"
    },
    {
     "data": {
      "image/png": "[encoded data removed]",
      "text/plain": [
       "<matplotlib.figure.Figure at 0x1300ce1d0>"
      ]
     },
     "metadata": {},
     "output_type": "display_data"
    }
   ],
   "source": [
    "census_finaldata.sample(100).plot()"
   ]
  },
  {
   "cell_type": "code",
   "execution_count": 34,
   "metadata": {},
   "outputs": [
    {
     "data": {
      "image/png": "[encoded data removed]",
      "text/plain": [
       "<matplotlib.figure.Figure at 0x131afd518>"
      ]
     },
     "metadata": {},
     "output_type": "display_data"
    }
   ],
   "source": [
    "### Income is log-normal\n",
    "plt.hist(np.log(threeoneone_census_complaints['median_income_new']+1),bins=100)\n",
    "plt.show()"
   ]
  },
  {
   "cell_type": "markdown",
   "metadata": {},
   "source": [
    "# Set up Bayesian model"
   ]
  },
  {
   "cell_type": "markdown",
   "metadata": {},
   "source": [
    "We have a model where $$ y = X\\beta+\\epsilon$$ and $y$ = the time it takes to fix the complaint, $\\beta_0$ = \"baseline amount of time it should take\", $\\beta_1$ = proportion of white, $\\beta_2$ = proportion of black,  $\\beta_3$ = proportion of asian,  $\\beta_4$ = proportion of 'other', $\\beta_5$ = median income, $\\beta_6$ = count of total number of calls.\n"
   ]
  },
  {
   "cell_type": "code",
   "execution_count": 35,
   "metadata": {
    "collapsed": true
   },
   "outputs": [],
   "source": [
    "threeoneone_census_complaints['ln_median_income_new']= np.log(threeoneone_census_complaints['median_income_new']+1)\n",
    "threeoneone_census_complaints['ln_complaint_density']= np.log(threeoneone_census_complaints['complaint_density']+1)\n",
    "threeoneone_census_complaints['population']=threeoneone_census_complaints['population'].astype(float)"
   ]
  },
  {
   "cell_type": "code",
   "execution_count": 36,
   "metadata": {},
   "outputs": [
    {
     "data": {
      "text/plain": [
       "Index([                    'Unique Key',                   'Created Date',\n",
       "                          'Closed Date',                 'Complaint Type',\n",
       "                           'Descriptor',                  'Location Type',\n",
       "                         'Incident Zip',               'Incident Address',\n",
       "                          'Street Name',                   'Address Type',\n",
       "                                 'City',                       'Landmark',\n",
       "                        'Facility Type',                         'Status',\n",
       "                             'Due Date', 'Resolution Action Updated Date',\n",
       "                      'Community Board',                        'Borough',\n",
       "                             'Latitude',                      'Longitude',\n",
       "                             'Location',                    'closed_date',\n",
       "                         'created_date',                   'created_year',\n",
       "                                      1,                                2,\n",
       "                                      3,                                4,\n",
       "                                      5,                                6,\n",
       "                                      7,                                8,\n",
       "                                      9,                               10,\n",
       "                                     11,                               12,\n",
       "                             'geometry',                       'fix_time',\n",
       "                         'fix_time_sec',                    'index_right',\n",
       "                           'ACS_HD01_V',                       'AFFGEOID',\n",
       "                                'ALAND',                         'AWATER',\n",
       "                             'BLKGRPCE',                       'COUNTYFP',\n",
       "                                'GEOID',                           'LSAD',\n",
       "                                 'NAME',                        'STATEFP',\n",
       "                              'TRACTCE',                    'GEOID_tract',\n",
       "                               'GEO.id',                        'GEO.id2',\n",
       "                    'GEO.display-label',                     'population',\n",
       "                          'white_alone',                    'black_alone',\n",
       "                          'asian_alone',                     'other_race',\n",
       "                             'hispanic',                  'median_income',\n",
       "                      'complaint_count',               'avg_fix_time_sec',\n",
       "                    'complaint_density',                     'perc_white',\n",
       "                           'perc_black',                     'perc_asian',\n",
       "                           'perc_other',                  'perc_hispanic',\n",
       "                    'median_income_new',           'ln_median_income_new',\n",
       "                 'ln_complaint_density'],\n",
       "      dtype='object')"
      ]
     },
     "execution_count": 36,
     "metadata": {},
     "output_type": "execute_result"
    }
   ],
   "source": [
    "threeoneone_census_complaints.columns"
   ]
  },
  {
   "cell_type": "code",
   "execution_count": 48,
   "metadata": {},
   "outputs": [],
   "source": [
    "y = np.log(threeoneone_census_complaints['avg_fix_time_sec']+1).values\n",
    "\n",
    "X = threeoneone_census_complaints[['perc_white',\\\n",
    "                                   'perc_black', \\\n",
    "                                   'perc_asian',\\\n",
    "                                   'perc_hispanic',\\\n",
    "                                   'perc_other', \\\n",
    "                                   'ln_median_income_new', \\\n",
    "                                   'ln_complaint_density',\\\n",
    "                                   'population',\\\n",
    "                                   1,2,3,4,5,6,7,8,9,10,11,12]].values\n",
    "\n",
    "## Optional intercept\n",
    "ones_ = np.ones(threeoneone_census_complaints.shape[0]).reshape((-1,1))\n",
    "X = np.hstack((ones_,X))"
   ]
  },
  {
   "cell_type": "code",
   "execution_count": 93,
   "metadata": {},
   "outputs": [
    {
     "data": {
      "text/plain": [
       "Elemwise{add,no_inplace}.0"
      ]
     },
     "execution_count": 93,
     "metadata": {},
     "output_type": "execute_result"
    }
   ],
   "source": [
    "alpha+ beta_race.tag.test_value.reshape((-1,1)).T.dot(X[:,1:6].T)+ beta_income.tag.test_value.reshape((-1,1)).T.dot(X[:,6:7].T) +beta_complaint.tag.test_value.reshape((-1,1)).T.dot(X[:,7:8].T) +beta_pop.tag.test_value.reshape((-1,1)).T.dot(X[:,8:9].T)\n",
    "\n",
    "# beta_pop.tag.test_value.reshape((-1,1)).T.dot(X[:,8:9].T)"
   ]
  },
  {
   "cell_type": "code",
   "execution_count": null,
   "metadata": {},
   "outputs": [
    {
     "name": "stderr",
     "output_type": "stream",
     "text": [
      "INFO (theano.gof.compilelock): Refreshing lock /Users/wenfeixu/.theano/compiledir_Darwin-15.6.0-x86_64-i386-64bit-i386-3.6.1-64/lock_dir/lock\n",
      "  2%|▏         | 258/15000 [07:31<7:25:39,  1.81s/it]"
     ]
    }
   ],
   "source": [
    "import pymc3 as pm\n",
    "import theano.tensor as tt\n",
    "\n",
    "with pm.Model() as model:\n",
    "    \n",
    "    # Priors for unknown model parameters\n",
    "    sigma = pm.HalfNormal('sigma', sd=0.1)\n",
    "    alpha = pm.Uniform(\"alpha\", -10, 10)\n",
    "    beta_race = pm.Uniform(\"betas_race\", -50, 50, shape=5)\n",
    "    beta_income = pm.Uniform('beta_income', -50, 50)\n",
    "    beta_complaint = pm.Uniform('beta_complaint',-50, 50)\n",
    "    beta_pop = pm.Uniform('beta_pop',-50, 50)\n",
    "#     dummy_month = pm.Uniform('dummy_month',1,12,shape=12)\n",
    "    mu = alpha+ beta_race.reshape((-1,1)).T.dot(X[:,1:6].T)+ beta_income.reshape((-1,1)).T.dot(X[:,6:7].T) +beta_complaint.reshape((-1,1)).T.dot(X[:,7:8].T)+beta_pop.reshape((-1,1)).T.dot(X[:,8:9].T)\n",
    "\n",
    "    #     mu = alpha+ X[:,1:6].dot(beta_race)+ X[:,6:7].dot(beta_income) +X[:,7:8].dot(beta_complaint)+X[:,8:9].dot(beta_pop)\n",
    "#     +X[:,9:21].doc(dummy_month)\n",
    "    Y_obs = pm.Normal('Y_obs', mu=mu.T, sd=sigma, observed=y)\n",
    "#     Y_obs = pm.Poisson('Y_obs', mu=mu, observed=y)\n",
    "        \n",
    "    step = pm.Metropolis()\n",
    "    trace = pm.sample(10000, tune=5000,step=step)"
   ]
  },
  {
   "cell_type": "code",
   "execution_count": null,
   "metadata": {},
   "outputs": [],
   "source": [
    "plt.figure(figsize=(7, 7))\n",
    "pm.traceplot(trace)\n",
    "plt.tight_layout();"
   ]
  },
  {
   "cell_type": "code",
   "execution_count": null,
   "metadata": {},
   "outputs": [],
   "source": [
    "# from scipy import optimize\n",
    "# map_estimate = pm.find_MAP(model=model)\n",
    "# map_estimate"
   ]
  },
  {
   "cell_type": "code",
   "execution_count": null,
   "metadata": {},
   "outputs": [],
   "source": [
    "betas_race_samples.mean(axis=0)"
   ]
  },
  {
   "cell_type": "code",
   "execution_count": null,
   "metadata": {
    "collapsed": true
   },
   "outputs": [],
   "source": [
    "betas_race_samples = trace['betas_race']\n",
    "alpha_samples = trace['alpha']\n",
    "beta_income_samples = trace['beta_income']\n",
    "beta_complaint_samples = trace['beta_complaint']"
   ]
  },
  {
   "cell_type": "code",
   "execution_count": null,
   "metadata": {},
   "outputs": [],
   "source": [
    "map_estimate['betas_race_interval__'].reshape((-1,1)).T.dot(X[:,1:5].T).shape"
   ]
  },
  {
   "cell_type": "code",
   "execution_count": null,
   "metadata": {},
   "outputs": [],
   "source": [
    "y_hat = map_estimate['alpha_interval__'] + map_estimate['betas_race_interval__'].reshape((-1,1)).T.dot(X[:,1:5].T) +\\\n",
    "map_estimate['beta_income_interval__'].reshape((-1,1)).T.dot(X[:,5:6].T)+ \\\n",
    "map_estimate['beta_complaint_interval__'].reshape((-1,1)).T.dot(X[:,6:7].T)\n",
    "plt.scatter(y_hat.T,y)\n",
    "plt.show()"
   ]
  },
  {
   "cell_type": "code",
   "execution_count": null,
   "metadata": {},
   "outputs": [],
   "source": [
    "pm.forestplot(trace)"
   ]
  },
  {
   "cell_type": "code",
   "execution_count": null,
   "metadata": {
    "collapsed": true
   },
   "outputs": [],
   "source": []
  }
 ],
 "metadata": {
  "kernelspec": {
   "display_name": "Python 3",
   "language": "python",
   "name": "python3"
  },
  "language_info": {
   "codemirror_mode": {
    "name": "ipython",
    "version": 3
   },
   "file_extension": ".py",
   "mimetype": "text/x-python",
   "name": "python",
   "nbconvert_exporter": "python",
   "pygments_lexer": "ipython3",
   "version": "3.6.1"
  }
 },
 "nbformat": 4,
 "nbformat_minor": 2
}
